{
 "cells": [
  {
   "cell_type": "code",
   "execution_count": 1,
   "id": "62a301b3",
   "metadata": {},
   "outputs": [],
   "source": [
    "a=10\n",
    "b=20"
   ]
  },
  {
   "cell_type": "code",
   "execution_count": 2,
   "id": "17ecba99",
   "metadata": {},
   "outputs": [
    {
     "name": "stdout",
     "output_type": "stream",
     "text": [
      "10*20*10*100!!"
     ]
    }
   ],
   "source": [
    "print(a,b,10,100,sep='*',end='!!')"
   ]
  },
  {
   "cell_type": "markdown",
   "id": "b01cb15f",
   "metadata": {},
   "source": [
    "### 마지막 값을 반환한다. 아래 경우에선 a는 무시하고 b 값을 반환함"
   ]
  },
  {
   "cell_type": "code",
   "execution_count": 4,
   "id": "b451f35c",
   "metadata": {},
   "outputs": [
    {
     "data": {
      "text/plain": [
       "20"
      ]
     },
     "execution_count": 4,
     "metadata": {},
     "output_type": "execute_result"
    }
   ],
   "source": [
    "a\n",
    "b"
   ]
  },
  {
   "cell_type": "markdown",
   "id": "63892c13",
   "metadata": {},
   "source": [
    "### 쌍을 반환함"
   ]
  },
  {
   "cell_type": "code",
   "execution_count": 5,
   "id": "bfe8fb9b",
   "metadata": {},
   "outputs": [
    {
     "data": {
      "text/plain": [
       "(10, 20)"
      ]
     },
     "execution_count": 5,
     "metadata": {},
     "output_type": "execute_result"
    }
   ],
   "source": [
    "a,b"
   ]
  },
  {
   "cell_type": "markdown",
   "id": "f3cef491",
   "metadata": {},
   "source": [
    "### 파이썬은 선언할 때 초기화도 같이 해야 됨 \n",
    "\n",
    "초기값이 마땅히 없을때 None으로 선언하면 된다.\n"
   ]
  },
  {
   "cell_type": "code",
   "execution_count": 8,
   "id": "eed018af",
   "metadata": {},
   "outputs": [],
   "source": [
    "a=None"
   ]
  },
  {
   "cell_type": "markdown",
   "id": "e573ebdd",
   "metadata": {},
   "source": [
    "--------------------\n"
   ]
  },
  {
   "cell_type": "markdown",
   "id": "21e3edb5",
   "metadata": {},
   "source": [
    "# <span style=\"color:orange\"> List </span>"
   ]
  },
  {
   "cell_type": "markdown",
   "id": "e41fa968",
   "metadata": {},
   "source": [
    "### 문자열 슬라이싱 [start:end]  start<=index<end\n"
   ]
  },
  {
   "cell_type": "code",
   "execution_count": 13,
   "id": "0315f926",
   "metadata": {},
   "outputs": [
    {
     "data": {
      "text/plain": [
       "'Hello'"
      ]
     },
     "execution_count": 13,
     "metadata": {},
     "output_type": "execute_result"
    }
   ],
   "source": [
    "a='Hellow world'\n",
    "a[0:5]"
   ]
  },
  {
   "cell_type": "markdown",
   "id": "d9a7651a",
   "metadata": {},
   "source": [
    "### Replace => 원본에 반영되지 않음 "
   ]
  },
  {
   "cell_type": "code",
   "execution_count": 17,
   "id": "3c87a5f1",
   "metadata": {},
   "outputs": [
    {
     "name": "stdout",
     "output_type": "stream",
     "text": [
      "Hello world\n"
     ]
    }
   ],
   "source": [
    "a='hello world'\n",
    "a=a.replace('h','H')\n",
    "print(a)"
   ]
  },
  {
   "cell_type": "markdown",
   "id": "21455871",
   "metadata": {},
   "source": [
    "### Format"
   ]
  },
  {
   "cell_type": "code",
   "execution_count": 18,
   "id": "fe8354c2",
   "metadata": {},
   "outputs": [
    {
     "name": "stdout",
     "output_type": "stream",
     "text": [
      "오늘 기온 20도 이고, 비올 확률은 80.0%입니다.\n"
     ]
    }
   ],
   "source": [
    "temp=20\n",
    "prob=80.0\n",
    "a='오늘 기온 {}도 이고, 비올 확률은 {}%입니다.'.format(temp,prob)\n",
    "print(a)\n"
   ]
  },
  {
   "cell_type": "markdown",
   "id": "dfa1b8fc",
   "metadata": {},
   "source": [
    "### split => list 형식으로 return\n"
   ]
  },
  {
   "cell_type": "code",
   "execution_count": 20,
   "id": "d85c2008",
   "metadata": {},
   "outputs": [
    {
     "data": {
      "text/plain": [
       "['hello', 'world', 'what', 'a', 'nice', 'weather']"
      ]
     },
     "execution_count": 20,
     "metadata": {},
     "output_type": "execute_result"
    }
   ],
   "source": [
    "a='hello world what a nice weather'\n",
    "a.split()\n"
   ]
  },
  {
   "cell_type": "markdown",
   "id": "54f5d5e5",
   "metadata": {},
   "source": [
    "### list 생성\n"
   ]
  },
  {
   "cell_type": "code",
   "execution_count": 22,
   "id": "022b7e7b",
   "metadata": {},
   "outputs": [],
   "source": [
    "a=[] \n",
    "a=[1,2,3,4,5]\n",
    "a=['korea','canada',[2,4]]"
   ]
  },
  {
   "cell_type": "code",
   "execution_count": 23,
   "id": "dc101202",
   "metadata": {},
   "outputs": [
    {
     "name": "stdout",
     "output_type": "stream",
     "text": [
      "['h', 'e', 'l', 'l', 'o', ' ', 'w', 'o', 'r', 'l', 'd']\n"
     ]
    }
   ],
   "source": [
    "a='hello world'\n",
    "b=list(a)\n",
    "print(b)"
   ]
  },
  {
   "cell_type": "markdown",
   "id": "a9aa7eb0",
   "metadata": {},
   "source": [
    "### 문자열은 불변(immutable)이다."
   ]
  },
  {
   "cell_type": "code",
   "execution_count": 24,
   "id": "6278de2c",
   "metadata": {},
   "outputs": [
    {
     "name": "stdout",
     "output_type": "stream",
     "text": [
      "h\n"
     ]
    }
   ],
   "source": [
    "a='hello world'\n",
    "print(a[0])"
   ]
  },
  {
   "cell_type": "code",
   "execution_count": 25,
   "id": "c2f1400e",
   "metadata": {},
   "outputs": [
    {
     "name": "stdout",
     "output_type": "stream",
     "text": [
      "h\n"
     ]
    },
    {
     "ename": "TypeError",
     "evalue": "'str' object does not support item assignment",
     "output_type": "error",
     "traceback": [
      "\u001b[0;31m---------------------------------------------------------------------------\u001b[0m",
      "\u001b[0;31mTypeError\u001b[0m                                 Traceback (most recent call last)",
      "\u001b[0;32m<ipython-input-25-53cb64cbf5f5>\u001b[0m in \u001b[0;36m<module>\u001b[0;34m\u001b[0m\n\u001b[1;32m      1\u001b[0m \u001b[0ma\u001b[0m\u001b[0;34m=\u001b[0m\u001b[0;34m'hello world'\u001b[0m\u001b[0;34m\u001b[0m\u001b[0;34m\u001b[0m\u001b[0m\n\u001b[1;32m      2\u001b[0m \u001b[0mprint\u001b[0m\u001b[0;34m(\u001b[0m\u001b[0ma\u001b[0m\u001b[0;34m[\u001b[0m\u001b[0;36m0\u001b[0m\u001b[0;34m]\u001b[0m\u001b[0;34m)\u001b[0m\u001b[0;34m\u001b[0m\u001b[0;34m\u001b[0m\u001b[0m\n\u001b[0;32m----> 3\u001b[0;31m \u001b[0ma\u001b[0m\u001b[0;34m[\u001b[0m\u001b[0;36m0\u001b[0m\u001b[0;34m]\u001b[0m\u001b[0;34m=\u001b[0m\u001b[0;34m'j'\u001b[0m\u001b[0;34m\u001b[0m\u001b[0;34m\u001b[0m\u001b[0m\n\u001b[0m",
      "\u001b[0;31mTypeError\u001b[0m: 'str' object does not support item assignment"
     ]
    }
   ],
   "source": [
    "a='hello world'\n",
    "print(a[0])\n",
    "a[0]='j'"
   ]
  },
  {
   "cell_type": "markdown",
   "id": "13ed714b",
   "metadata": {},
   "source": [
    "### Slicing은 인자는 2개이다. start:end:increment\n"
   ]
  },
  {
   "cell_type": "code",
   "execution_count": 26,
   "id": "fb967236",
   "metadata": {},
   "outputs": [
    {
     "data": {
      "text/plain": [
       "[2, 5]"
      ]
     },
     "execution_count": 26,
     "metadata": {},
     "output_type": "execute_result"
    }
   ],
   "source": [
    "a=[1,2,3,4,5,6,7]\n",
    "a[1::3]"
   ]
  },
  {
   "cell_type": "markdown",
   "id": "d8534d35",
   "metadata": {},
   "source": [
    "### append() VS extend()"
   ]
  },
  {
   "cell_type": "code",
   "execution_count": 31,
   "id": "cab74281",
   "metadata": {},
   "outputs": [
    {
     "name": "stdout",
     "output_type": "stream",
     "text": [
      "[1, 2, 3, 4, 5, 6, 7, 8, 9, 10]\n"
     ]
    }
   ],
   "source": [
    "a=[1,2,3,4,5]\n",
    "b=[6,7,8,9,10]\n",
    "\n",
    "# a.append(b)\n",
    "# print(a)\n",
    "# out: [1, 2, 3, 4, 5, [6, 7, 8, 9, 10]]\n",
    "\n",
    "# a.extend(b)\n",
    "a+=b\n",
    "print(a)"
   ]
  },
  {
   "cell_type": "markdown",
   "id": "d62060db",
   "metadata": {},
   "source": [
    "### remove() : 값으로 지우기"
   ]
  },
  {
   "cell_type": "code",
   "execution_count": 33,
   "id": "1dacdf48",
   "metadata": {},
   "outputs": [
    {
     "name": "stdout",
     "output_type": "stream",
     "text": [
      "['a', 'b', 'c', 'd', 'e']\n",
      "['a', 'c', 'd', 'e']\n"
     ]
    }
   ],
   "source": [
    "a=['a','b','c','d','e']\n",
    "print(a)\n",
    "a.remove('b')\n",
    "print(a)"
   ]
  },
  {
   "cell_type": "markdown",
   "id": "473b5fee",
   "metadata": {},
   "source": [
    "### pop() : index로 지우기 (pop되는 항목을 반환함)"
   ]
  },
  {
   "cell_type": "code",
   "execution_count": 36,
   "id": "b783c384",
   "metadata": {},
   "outputs": [
    {
     "name": "stdout",
     "output_type": "stream",
     "text": [
      "['a', 'b', 'c', 'd', 'e']\n",
      "c\n",
      "['a', 'b', 'd', 'e']\n"
     ]
    }
   ],
   "source": [
    "a=['a','b','c','d','e']\n",
    "print(a)\n",
    "print(a.pop(2)) # => 삭제하는 값을 반환함\n",
    "print(a)"
   ]
  },
  {
   "cell_type": "markdown",
   "id": "d1b1f192",
   "metadata": {},
   "source": [
    "### index() : 찾고자 하는 값의 index를 반환\n"
   ]
  },
  {
   "cell_type": "code",
   "execution_count": 37,
   "id": "b56ea966",
   "metadata": {},
   "outputs": [
    {
     "data": {
      "text/plain": [
       "1"
      ]
     },
     "execution_count": 37,
     "metadata": {},
     "output_type": "execute_result"
    }
   ],
   "source": [
    "a=['a','b','c','d','e']\n",
    "a.index('b')"
   ]
  },
  {
   "cell_type": "markdown",
   "id": "de95ff12",
   "metadata": {},
   "source": [
    "### in 키워드 : 리스트 내에 해당 값이 존재하는 지 확인\n"
   ]
  },
  {
   "cell_type": "code",
   "execution_count": 38,
   "id": "7c46ca4c",
   "metadata": {},
   "outputs": [
    {
     "name": "stdout",
     "output_type": "stream",
     "text": [
      "False\n"
     ]
    }
   ],
   "source": [
    "a=[1,2,3,4,5]\n",
    "b=10\n",
    "c= b in a\n",
    "print(c)"
   ]
  },
  {
   "cell_type": "markdown",
   "id": "38630620",
   "metadata": {},
   "source": [
    "### list 정렬\n",
    "- sort() => 리스트 자체를 내부적으로 정렬\n",
    "- sorted() => 리스트의 정렬된 복사본을 반환\n"
   ]
  },
  {
   "cell_type": "code",
   "execution_count": 42,
   "id": "6914a8d9",
   "metadata": {},
   "outputs": [
    {
     "name": "stdout",
     "output_type": "stream",
     "text": [
      "[8, 6, 5, 4, 3, 3, 2, 1]\n",
      "[1, 2, 3, 3, 4, 5, 6, 8]\n"
     ]
    }
   ],
   "source": [
    "a=[1,4,3,5,6,8,3,2]\n",
    "a.sort(reverse=True)\n",
    "b=sorted(a)\n",
    "# b=sorted(a,reverse=True)\n",
    "print(a)\n",
    "print(b)"
   ]
  },
  {
   "cell_type": "markdown",
   "id": "20d7cf7b",
   "metadata": {},
   "source": [
    "-----------------\n"
   ]
  },
  {
   "cell_type": "markdown",
   "id": "0d992700",
   "metadata": {},
   "source": [
    "# **<span style=\"color:orange\">Tuple</span>**"
   ]
  },
  {
   "cell_type": "code",
   "execution_count": 3,
   "id": "a9de1a5e",
   "metadata": {},
   "outputs": [
    {
     "name": "stdout",
     "output_type": "stream",
     "text": [
      "<class 'list'>\n",
      "<class 'tuple'>\n"
     ]
    },
    {
     "ename": "TypeError",
     "evalue": "'tuple' object does not support item assignment",
     "output_type": "error",
     "traceback": [
      "\u001b[0;31m---------------------------------------------------------------------------\u001b[0m",
      "\u001b[0;31mTypeError\u001b[0m                                 Traceback (most recent call last)",
      "\u001b[0;32m<ipython-input-3-f2902752a122>\u001b[0m in \u001b[0;36m<module>\u001b[0;34m\u001b[0m\n\u001b[1;32m      5\u001b[0m \u001b[0mprint\u001b[0m\u001b[0;34m(\u001b[0m\u001b[0mtype\u001b[0m\u001b[0;34m(\u001b[0m\u001b[0mb\u001b[0m\u001b[0;34m)\u001b[0m\u001b[0;34m)\u001b[0m\u001b[0;34m\u001b[0m\u001b[0;34m\u001b[0m\u001b[0m\n\u001b[1;32m      6\u001b[0m \u001b[0;34m\u001b[0m\u001b[0m\n\u001b[0;32m----> 7\u001b[0;31m \u001b[0mb\u001b[0m\u001b[0;34m[\u001b[0m\u001b[0;36m0\u001b[0m\u001b[0;34m]\u001b[0m\u001b[0;34m=\u001b[0m\u001b[0;36m4\u001b[0m\u001b[0;34m\u001b[0m\u001b[0;34m\u001b[0m\u001b[0m\n\u001b[0m",
      "\u001b[0;31mTypeError\u001b[0m: 'tuple' object does not support item assignment"
     ]
    }
   ],
   "source": [
    "a=[1,2,3]\n",
    "b=(1,2,3)\n",
    "\n",
    "print(type(a))\n",
    "print(type(b))\n",
    "\n",
    "b[0]=4 # tuple의 원소는 불변"
   ]
  },
  {
   "cell_type": "markdown",
   "id": "764c9502",
   "metadata": {},
   "source": [
    "### tuple unpacking : \n",
    "튜플의 값을 차례대로 변수에 대입, 동시에 여러 값을 반환할 때 튜플이 사용됨\n",
    "\n"
   ]
  },
  {
   "cell_type": "code",
   "execution_count": 6,
   "id": "9c49400e",
   "metadata": {},
   "outputs": [
    {
     "name": "stdout",
     "output_type": "stream",
     "text": [
      "100 200\n"
     ]
    },
    {
     "data": {
      "text/plain": [
       "int"
      ]
     },
     "execution_count": 6,
     "metadata": {},
     "output_type": "execute_result"
    }
   ],
   "source": [
    "a,b=100,200\n",
    "print(a,b)\n",
    "\n",
    "type(a) "
   ]
  },
  {
   "cell_type": "markdown",
   "id": "92b2716b",
   "metadata": {},
   "source": [
    "### tuple unpacking 예제 : swab 함수 구현\n"
   ]
  },
  {
   "cell_type": "code",
   "execution_count": 11,
   "id": "63263d0a",
   "metadata": {},
   "outputs": [
    {
     "name": "stdout",
     "output_type": "stream",
     "text": [
      "1 2\n",
      "2 1\n"
     ]
    }
   ],
   "source": [
    "a=1\n",
    "b=2\n",
    "print(a,b)\n",
    "# temp=a\n",
    "# a=b\n",
    "# b=temp\n",
    "\n",
    "a,b=b,a\n",
    "print(a,b)"
   ]
  },
  {
   "cell_type": "markdown",
   "id": "cda574aa",
   "metadata": {},
   "source": [
    "------------\n"
   ]
  },
  {
   "cell_type": "markdown",
   "id": "e617b70b",
   "metadata": {},
   "source": [
    "# **<span style=\"color:orange\">Dictionary</span>**"
   ]
  },
  {
   "cell_type": "markdown",
   "id": "b3e59e56",
   "metadata": {},
   "source": [
    "- 키와 값을 갖는 데이터 구조\n",
    "- 키는 내부적으로 hash값으로 저장\n",
    "- 순서를 따지지 않음. 즉, 인덱스가 없음"
   ]
  },
  {
   "cell_type": "code",
   "execution_count": 17,
   "id": "760ae527",
   "metadata": {},
   "outputs": [
    {
     "name": "stdout",
     "output_type": "stream",
     "text": [
      "{'Korea', 'Seoul', 'Ottawa', 'USA'}\n"
     ]
    }
   ],
   "source": [
    "a={} # 초기화\n",
    "a={'Korea','Seoul','Ottawa','USA'}\n",
    "print(a)"
   ]
  },
  {
   "cell_type": "code",
   "execution_count": 21,
   "id": "3745d917",
   "metadata": {},
   "outputs": [
    {
     "name": "stdout",
     "output_type": "stream",
     "text": [
      "seoul\n"
     ]
    },
    {
     "ename": "KeyError",
     "evalue": "'Japan'",
     "output_type": "error",
     "traceback": [
      "\u001b[0;31m---------------------------------------------------------------------------\u001b[0m",
      "\u001b[0;31mKeyError\u001b[0m                                  Traceback (most recent call last)",
      "\u001b[0;32m<ipython-input-21-c569a53a3056>\u001b[0m in \u001b[0;36m<module>\u001b[0;34m\u001b[0m\n\u001b[1;32m      1\u001b[0m \u001b[0ma\u001b[0m\u001b[0;34m=\u001b[0m\u001b[0;34m{\u001b[0m\u001b[0;34m'Korea'\u001b[0m\u001b[0;34m:\u001b[0m\u001b[0;34m'seoul'\u001b[0m\u001b[0;34m,\u001b[0m\u001b[0;34m'Canada'\u001b[0m\u001b[0;34m:\u001b[0m\u001b[0;34m'Ottawa'\u001b[0m\u001b[0;34m}\u001b[0m\u001b[0;34m\u001b[0m\u001b[0;34m\u001b[0m\u001b[0m\n\u001b[1;32m      2\u001b[0m \u001b[0mprint\u001b[0m\u001b[0;34m(\u001b[0m\u001b[0ma\u001b[0m\u001b[0;34m[\u001b[0m\u001b[0;34m'Korea'\u001b[0m\u001b[0;34m]\u001b[0m\u001b[0;34m)\u001b[0m\u001b[0;34m\u001b[0m\u001b[0;34m\u001b[0m\u001b[0m\n\u001b[0;32m----> 3\u001b[0;31m \u001b[0mprint\u001b[0m\u001b[0;34m(\u001b[0m\u001b[0ma\u001b[0m\u001b[0;34m[\u001b[0m\u001b[0;34m'Japan'\u001b[0m\u001b[0;34m]\u001b[0m\u001b[0;34m)\u001b[0m\u001b[0;34m\u001b[0m\u001b[0;34m\u001b[0m\u001b[0m\n\u001b[0m",
      "\u001b[0;31mKeyError\u001b[0m: 'Japan'"
     ]
    }
   ],
   "source": [
    "a={'Korea':'seoul','Canada':'Ottawa'}\n",
    "print(a['Korea'])\n",
    "print(a['Japan'])"
   ]
  },
  {
   "cell_type": "markdown",
   "id": "a13707f0",
   "metadata": {},
   "source": [
    "### 삽입의 경우 기존에 값이 있는 경우 덮어씌움, 없는 값이면 삽입"
   ]
  },
  {
   "cell_type": "code",
   "execution_count": 26,
   "id": "8ac61449",
   "metadata": {},
   "outputs": [
    {
     "name": "stdout",
     "output_type": "stream",
     "text": [
      "{'Korea': 'seoul', 'Canada': 'Ottawa', 'Japan': 'Osaka', 'China': 'Beijing'}\n"
     ]
    }
   ],
   "source": [
    "a={'Korea':'seoul','Canada':'Ottawa'}\n",
    "a['Japan']='Tokyo'\n",
    "a['Japan']='Osaka'\n",
    "a['China']='Beijing'\n",
    "print(a)"
   ]
  },
  {
   "cell_type": "markdown",
   "id": "1e8a4263",
   "metadata": {},
   "source": [
    "### update()\n",
    "- 두 딕셔너리 병합함\n",
    "- 겹치는 키가 있으면 parameter로 전달되는 값이 overwrite됨 => 괄호안의 값으로 overwrite됨\n"
   ]
  },
  {
   "cell_type": "code",
   "execution_count": 28,
   "id": "e3d0946b",
   "metadata": {},
   "outputs": [
    {
     "name": "stdout",
     "output_type": "stream",
     "text": [
      "{'Korea': 'Daegu'}\n",
      "{'Korea': 'seoul', 'Canada': 'Ottawa'}\n"
     ]
    }
   ],
   "source": [
    "a={'Korea':'seoul','Canada':'Ottawa'}\n",
    "b={'Korea':'Daegu'}\n",
    "print(b)\n",
    "b.update(a)\n",
    "print(b)"
   ]
  },
  {
   "cell_type": "markdown",
   "id": "7b32eb56",
   "metadata": {},
   "source": [
    "### key 삭제\n",
    "- del 키워드 사용\n",
    "- pop 함수 이용"
   ]
  },
  {
   "cell_type": "markdown",
   "id": "5a6c9801",
   "metadata": {},
   "source": [
    "### in\n",
    "- key값 존재 확인\n",
    "- O(1) 연산, dict의 크기와 관계없이 항상 연산의 속도가 일정하다."
   ]
  },
  {
   "cell_type": "code",
   "execution_count": 3,
   "id": "ec44175d",
   "metadata": {},
   "outputs": [
    {
     "name": "stdout",
     "output_type": "stream",
     "text": [
      "True\n",
      "False\n"
     ]
    }
   ],
   "source": [
    "a={'a':1,'b':2}\n",
    "\n",
    "print('a' in a)\n",
    "print('d' in a)"
   ]
  },
  {
   "cell_type": "markdown",
   "id": "aa33746a",
   "metadata": {},
   "source": [
    "### Value access\n",
    "- dict[key] 접근 => key가 없는 경우 에러 발생\n",
    "- .get()으로 접근 => key가 없는 경우 None 반환"
   ]
  },
  {
   "cell_type": "markdown",
   "id": "3703660b",
   "metadata": {},
   "source": [
    "### 모든 keys, values 반환\n",
    "- keys() => 키만 반환\n",
    "- values() => 값만 반환\n",
    "- items() => 키, 값의 튜풀을 반환\n"
   ]
  },
  {
   "cell_type": "code",
   "execution_count": 15,
   "id": "488dae58",
   "metadata": {},
   "outputs": [
    {
     "name": "stdout",
     "output_type": "stream",
     "text": [
      "{'a': 1, 'b': 2}\n",
      "<class 'dict_keys'>\n",
      "<class 'list'>\n",
      "<class 'dict_values'>\n",
      "<class 'list'>\n",
      "<class 'dict_items'>\n",
      "<class 'list'>\n"
     ]
    }
   ],
   "source": [
    "print(a)\n",
    "print(type(a.keys())) #=> 자료형 => dict_keys\n",
    "print(type(list(a.keys())))\n",
    "\n",
    "print(type(a.values())) #=> 자료형 => dict_values\n",
    "print(type(list(a.values())))\n",
    "\n",
    "print(type(a.items())) #=> 자료형 => dict_keys\n",
    "print(type(list(a.items()))) # 내부는 tuple로 구성되어있음.\n"
   ]
  },
  {
   "cell_type": "markdown",
   "id": "e6246bb3",
   "metadata": {},
   "source": [
    "--------------------"
   ]
  },
  {
   "cell_type": "markdown",
   "id": "5587befd",
   "metadata": {},
   "source": [
    "# **<span style=\"color:orange\">Set</span>**\n",
    "- Dictionary에서 key만 있는 구조\n",
    "- 순서가 없다."
   ]
  },
  {
   "cell_type": "markdown",
   "id": "c7b31bf9",
   "metadata": {},
   "source": [
    "### set() 함수로 set으로 변환 가능\n"
   ]
  },
  {
   "cell_type": "code",
   "execution_count": 16,
   "id": "d1fd57ad",
   "metadata": {},
   "outputs": [
    {
     "name": "stdout",
     "output_type": "stream",
     "text": [
      "<class 'list'>\n",
      "<class 'set'>\n"
     ]
    }
   ],
   "source": [
    "a=[1,2,3,4,5,6,7,8,9]\n",
    "print(type(a))\n",
    "b=set(a)\n",
    "print(type(b))"
   ]
  },
  {
   "cell_type": "markdown",
   "id": "06822c3c",
   "metadata": {},
   "source": [
    "### 수학 연산과 동일\n"
   ]
  },
  {
   "cell_type": "code",
   "execution_count": 19,
   "id": "14f13956",
   "metadata": {},
   "outputs": [
    {
     "name": "stdout",
     "output_type": "stream",
     "text": [
      "{1, 2, 3, 4, 5, 6}\n",
      "{3}\n",
      "{1, 2}\n",
      "False\n"
     ]
    }
   ],
   "source": [
    "a={1,2,3}\n",
    "b={3,4,5,6}\n",
    "\n",
    "print(a.union(b)) # 합집합\n",
    "print(a.intersection(b)) # 교집합\n",
    "print(a.difference(b))  # 차집합\n",
    "print(a.issubset(b)) #부분 집합"
   ]
  },
  {
   "cell_type": "code",
   "execution_count": null,
   "id": "abe5e561",
   "metadata": {},
   "outputs": [],
   "source": []
  }
 ],
 "metadata": {
  "kernelspec": {
   "display_name": "Python 3",
   "language": "python",
   "name": "python3"
  },
  "language_info": {
   "codemirror_mode": {
    "name": "ipython",
    "version": 3
   },
   "file_extension": ".py",
   "mimetype": "text/x-python",
   "name": "python",
   "nbconvert_exporter": "python",
   "pygments_lexer": "ipython3",
   "version": "3.8.8"
  }
 },
 "nbformat": 4,
 "nbformat_minor": 5
}
