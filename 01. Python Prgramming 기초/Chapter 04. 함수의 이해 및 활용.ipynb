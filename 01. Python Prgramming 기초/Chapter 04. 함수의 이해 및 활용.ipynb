{
 "cells": [
  {
   "cell_type": "code",
   "execution_count": 1,
   "id": "939b486a",
   "metadata": {},
   "outputs": [],
   "source": [
    "def add(x,y):\n",
    "    return x+y"
   ]
  },
  {
   "cell_type": "code",
   "execution_count": 2,
   "id": "4632e1a7",
   "metadata": {},
   "outputs": [
    {
     "name": "stdout",
     "output_type": "stream",
     "text": [
      "104\n"
     ]
    }
   ],
   "source": [
    "print(add(100,4))"
   ]
  },
  {
   "cell_type": "markdown",
   "id": "93dbc625",
   "metadata": {},
   "source": [
    "### 기본 파라메터"
   ]
  },
  {
   "cell_type": "code",
   "execution_count": 3,
   "id": "52c53d99",
   "metadata": {},
   "outputs": [
    {
     "name": "stdout",
     "output_type": "stream",
     "text": [
      "1!2!3%%%"
     ]
    }
   ],
   "source": [
    "print(1,2,3, sep='!',end='%%%')"
   ]
  },
  {
   "cell_type": "markdown",
   "id": "d4e5f0c2",
   "metadata": {},
   "source": [
    "### Python 함수 내에서 전역 변수 사용"
   ]
  },
  {
   "cell_type": "code",
   "execution_count": 8,
   "id": "6cfc6a46",
   "metadata": {},
   "outputs": [
    {
     "name": "stdout",
     "output_type": "stream",
     "text": [
      "10\n",
      "20\n",
      "20\n",
      "30\n"
     ]
    }
   ],
   "source": [
    "# global num1\n",
    "num1=10\n",
    "# global num2\n",
    "num2=20\n",
    "\n",
    "def test():\n",
    "    global num1 # => 함수내에서 전역변수 선언을 해야 됨 함수 밖에서 global로 선언했어도 함수 내에서 따로 선언하지 않으면 지역변수로 사용된다.\n",
    "    global num2\n",
    "    num1+=10\n",
    "    num2+=10\n",
    "\n",
    "print(num1)\n",
    "print(num2)\n",
    "test()\n",
    "print(num1)\n",
    "print(num2)\n"
   ]
  },
  {
   "cell_type": "markdown",
   "id": "4b44840c",
   "metadata": {},
   "source": [
    "### 가변 길이 파라메터\n",
    "- 인자에 *을 붙인다.\n",
    "- 가변길이 인자는 통상적으로 args라고 명명한다."
   ]
  },
  {
   "cell_type": "code",
   "execution_count": 10,
   "id": "bd59632b",
   "metadata": {},
   "outputs": [
    {
     "name": "stdout",
     "output_type": "stream",
     "text": [
      "<class 'tuple'>\n"
     ]
    }
   ],
   "source": [
    "def test(*x):\n",
    "    print(type(x))\n",
    "    \n",
    "test(10,20,30) # => 내부적으로 튜플로 전달하고, 튜플을 순회하며 값을 출력한다."
   ]
  },
  {
   "cell_type": "markdown",
   "id": "a02883ba",
   "metadata": {},
   "source": [
    "### 가변 길이 키워드 파라메터\n",
    "- 통상적으로 kwargs로 명명한다."
   ]
  },
  {
   "cell_type": "code",
   "execution_count": 18,
   "id": "dbf898c3",
   "metadata": {},
   "outputs": [
    {
     "name": "stdout",
     "output_type": "stream",
     "text": [
      "{'a': 1, 'b': 2, 'c': 3, 'name': 'boj'}\n"
     ]
    }
   ],
   "source": [
    "def test2(**kwargs):\n",
    "    print(kwargs)\n",
    "    \n",
    "test2(a=1,b=2,c=3,name='boj')"
   ]
  },
  {
   "cell_type": "markdown",
   "id": "47ad4c53",
   "metadata": {},
   "source": [
    "### 파이썬 Lambda 함수\n",
    "- : 이전에 입력값\n",
    "- : 이후에 return값 적기"
   ]
  },
  {
   "cell_type": "code",
   "execution_count": 19,
   "id": "d36429d8",
   "metadata": {},
   "outputs": [],
   "source": [
    "squre=lambda a:a**2 "
   ]
  },
  {
   "cell_type": "code",
   "execution_count": 20,
   "id": "ea3ddeea",
   "metadata": {},
   "outputs": [
    {
     "data": {
      "text/plain": [
       "25"
      ]
     },
     "execution_count": 20,
     "metadata": {},
     "output_type": "execute_result"
    }
   ],
   "source": [
    "squre(5)"
   ]
  },
  {
   "cell_type": "code",
   "execution_count": 22,
   "id": "9ff2744e",
   "metadata": {},
   "outputs": [],
   "source": [
    "add2=lambda x,y:x+y"
   ]
  },
  {
   "cell_type": "code",
   "execution_count": 24,
   "id": "08853d19",
   "metadata": {},
   "outputs": [
    {
     "data": {
      "text/plain": [
       "'ab'"
      ]
     },
     "execution_count": 24,
     "metadata": {},
     "output_type": "execute_result"
    }
   ],
   "source": [
    "add2('a','b')"
   ]
  },
  {
   "cell_type": "code",
   "execution_count": 28,
   "id": "d2f276ad",
   "metadata": {},
   "outputs": [],
   "source": [
    "strings=['boby','Jay','Estrban']"
   ]
  },
  {
   "cell_type": "code",
   "execution_count": 26,
   "id": "859ecc96",
   "metadata": {},
   "outputs": [],
   "source": [
    "strings.sort()"
   ]
  },
  {
   "cell_type": "code",
   "execution_count": 27,
   "id": "a0a85f12",
   "metadata": {},
   "outputs": [
    {
     "name": "stdout",
     "output_type": "stream",
     "text": [
      "['Jay', 'bob']\n"
     ]
    }
   ],
   "source": [
    "print(strings)"
   ]
  },
  {
   "cell_type": "code",
   "execution_count": 33,
   "id": "7dd124a9",
   "metadata": {},
   "outputs": [
    {
     "name": "stdout",
     "output_type": "stream",
     "text": [
      "['Jay', 'boby', 'Estrban']\n"
     ]
    }
   ],
   "source": [
    "strings.sort(key=lambda a:len(a)) # => Pythonic한 함수\n",
    "print(strings)"
   ]
  },
  {
   "cell_type": "markdown",
   "id": "a4036def",
   "metadata": {},
   "source": [
    "### Filter => 기존 리스트에서 특정 조건으로 필터링 하여 반환\n",
    "- 기존 리스트에서 인자를 함수에 대입시켜서 true인 경우에 iterator에 담아서 반환 리스트 값이 그대로 쓰인다. 필터링만 거침"
   ]
  },
  {
   "cell_type": "code",
   "execution_count": 37,
   "id": "9ef55d19",
   "metadata": {},
   "outputs": [
    {
     "name": "stdout",
     "output_type": "stream",
     "text": [
      "[1, 2, 3, 4, 5, 6, 7, 8, 9]\n"
     ]
    }
   ],
   "source": [
    "nums=[1,2,3,4,5,6,7,8,9]\n",
    "\n",
    "list(filter(lambda a:a%2,nums)) # list로 캐스팅\n"
   ]
  },
  {
   "cell_type": "markdown",
   "id": "68093933",
   "metadata": {},
   "source": [
    "### map => 리스트의 인자를 함수에 대입시키고 결과값을 묶어서 iterator로 반환"
   ]
  },
  {
   "cell_type": "code",
   "execution_count": 38,
   "id": "3250d4ed",
   "metadata": {},
   "outputs": [
    {
     "data": {
      "text/plain": [
       "[1, 4, 9, 16, 25]"
      ]
     },
     "execution_count": 38,
     "metadata": {},
     "output_type": "execute_result"
    }
   ],
   "source": [
    "a=[1,2,3,4,5]\n",
    "list(map(lambda a:a**2,a))"
   ]
  },
  {
   "cell_type": "code",
   "execution_count": 42,
   "id": "878f6da9",
   "metadata": {},
   "outputs": [],
   "source": [
    "import functools"
   ]
  },
  {
   "cell_type": "code",
   "execution_count": 44,
   "id": "25250352",
   "metadata": {},
   "outputs": [
    {
     "data": {
      "text/plain": [
       "55"
      ]
     },
     "execution_count": 44,
     "metadata": {},
     "output_type": "execute_result"
    }
   ],
   "source": [
    "a=[1,2,3,4,5,6,7,8,9,10]\n",
    "functools.reduce(lambda a,b:a+b,a) # 두개를 처리해서 하나로 만드는 것을 반복하여 리스트의 인자가 하나가 될때가지 진행한다. 하나가 됐을 때 반환"
   ]
  },
  {
   "cell_type": "markdown",
   "id": "4336283a",
   "metadata": {},
   "source": [
    "### 연습문제"
   ]
  },
  {
   "cell_type": "markdown",
   "id": "635cf92a",
   "metadata": {},
   "source": [
    "### 1. 주어진 숫자 리스트의 평균을 구하는 함수를 출력"
   ]
  },
  {
   "cell_type": "code",
   "execution_count": 46,
   "id": "a4c09c42",
   "metadata": {},
   "outputs": [
    {
     "data": {
      "text/plain": [
       "5.5"
      ]
     },
     "execution_count": 46,
     "metadata": {},
     "output_type": "execute_result"
    }
   ],
   "source": [
    "a=[1,2,3,4,5,6,7,8,9,10]\n",
    "\n",
    "def avg(a):\n",
    "    return sum(a)/len(a)\n",
    "\n",
    "avg(a)"
   ]
  },
  {
   "cell_type": "markdown",
   "id": "a8ebd36d",
   "metadata": {},
   "source": [
    "### 2. 해당 숫자가 소수인지 아닌지 판별하시오."
   ]
  },
  {
   "cell_type": "code",
   "execution_count": 61,
   "id": "2f399fbc",
   "metadata": {},
   "outputs": [
    {
     "data": {
      "text/plain": [
       "True"
      ]
     },
     "execution_count": 61,
     "metadata": {},
     "output_type": "execute_result"
    }
   ],
   "source": [
    "def isPrime(a):\n",
    "    for i in range(2,int(a/2)+1):\n",
    "        if a%i==0 :\n",
    "            return False\n",
    "    return True\n",
    "\n",
    "isPrime(101)\n"
   ]
  },
  {
   "cell_type": "markdown",
   "id": "462c7077",
   "metadata": {},
   "source": [
    "### 3. 2부터 해당 숫자 사이에서 소수가 몇개인지 출력하는 함수를 구하시오"
   ]
  },
  {
   "cell_type": "code",
   "execution_count": 59,
   "id": "16c73727",
   "metadata": {},
   "outputs": [],
   "source": [
    "def findPrime(a):\n",
    "    cnt=0\n",
    "    for i in range(2,a+1):\n",
    "        if isPrime(i) :\n",
    "            cnt+=1\n",
    "    return cnt"
   ]
  },
  {
   "cell_type": "code",
   "execution_count": 63,
   "id": "84aa8258",
   "metadata": {},
   "outputs": [
    {
     "data": {
      "text/plain": [
       "25"
      ]
     },
     "execution_count": 63,
     "metadata": {},
     "output_type": "execute_result"
    }
   ],
   "source": [
    "findPrime(7)\n",
    "findPrime(100)"
   ]
  },
  {
   "cell_type": "code",
   "execution_count": null,
   "id": "44d8ae81",
   "metadata": {},
   "outputs": [],
   "source": []
  }
 ],
 "metadata": {
  "kernelspec": {
   "display_name": "Python 3",
   "language": "python",
   "name": "python3"
  },
  "language_info": {
   "codemirror_mode": {
    "name": "ipython",
    "version": 3
   },
   "file_extension": ".py",
   "mimetype": "text/x-python",
   "name": "python",
   "nbconvert_exporter": "python",
   "pygments_lexer": "ipython3",
   "version": "3.8.8"
  }
 },
 "nbformat": 4,
 "nbformat_minor": 5
}
