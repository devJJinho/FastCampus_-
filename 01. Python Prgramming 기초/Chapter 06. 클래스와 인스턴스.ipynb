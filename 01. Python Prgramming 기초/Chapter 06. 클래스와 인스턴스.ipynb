{
 "cells": [
  {
   "cell_type": "code",
   "execution_count": 6,
   "id": "8ff8ba33",
   "metadata": {},
   "outputs": [],
   "source": [
    "class Person:\n",
    "    pass  # 문법적으로 오류를 만들지 않고 빈 함수 또는 클래스를 만들고자 할때 사용"
   ]
  },
  {
   "cell_type": "code",
   "execution_count": 3,
   "id": "2c3534fc",
   "metadata": {},
   "outputs": [],
   "source": [
    "bob=Person()"
   ]
  },
  {
   "cell_type": "code",
   "execution_count": 4,
   "id": "cb529b5f",
   "metadata": {},
   "outputs": [],
   "source": [
    "cathy=Person()"
   ]
  },
  {
   "cell_type": "code",
   "execution_count": 17,
   "id": "34fa3817",
   "metadata": {},
   "outputs": [],
   "source": [
    "class Person:\n",
    "    def __init__(self,name,age):\n",
    "        self.name=name\n",
    "        self.age=age\n",
    "\n",
    "p1=Person('Jay',28)"
   ]
  },
  {
   "cell_type": "code",
   "execution_count": 19,
   "id": "7d117529",
   "metadata": {},
   "outputs": [
    {
     "name": "stdout",
     "output_type": "stream",
     "text": [
      "28\n"
     ]
    }
   ],
   "source": [
    "print(p1.age)"
   ]
  },
  {
   "cell_type": "markdown",
   "id": "b735b4c7",
   "metadata": {},
   "source": [
    "### Self\n",
    "- 파이썬의 method는 항상 첫번째 인자로 self를 전달\n",
    "- self는 현재 해당 메쏘드가 호출되는 객체 자신을 가리킴"
   ]
  },
  {
   "cell_type": "markdown",
   "id": "d96e34b9",
   "metadata": {},
   "source": [
    "### method 정의\n",
    "- 멤버함수라고도 하며, 해당 클래스의 object에서만 호출가능\n",
    "- 메쏘드는 객체 레벨에서 호출되며, 해당 객체의 속성에 대한 연산을 행함\n"
   ]
  },
  {
   "cell_type": "code",
   "execution_count": 23,
   "id": "c3c8922c",
   "metadata": {},
   "outputs": [
    {
     "name": "stdout",
     "output_type": "stream",
     "text": [
      "1\n",
      "2\n",
      "3\n",
      "4\n",
      "100\n"
     ]
    }
   ],
   "source": [
    "class Counter:\n",
    "    def __init__(self):\n",
    "        self.num=0\n",
    "        \n",
    "    def increment(self) :\n",
    "        self.num+=1\n",
    "    def setValue(self, num):\n",
    "        self.num=num\n",
    "\n",
    "c1=Counter()\n",
    "c1.increment()\n",
    "print(c1.num)\n",
    "c1.increment()\n",
    "print(c1.num)\n",
    "c1.increment()\n",
    "print(c1.num)\n",
    "c1.increment()\n",
    "print(c1.num)\n",
    "c1.setValue(100)\n",
    "print(c1.num)\n"
   ]
  },
  {
   "cell_type": "markdown",
   "id": "22312221",
   "metadata": {},
   "source": [
    "### Method type : instance method, class method\n",
    "- instance method - 객체로 호출\n",
    "    - 메쏘드는 객체 레벨로 호출되기 때문에 해당 메쏘드를 호출한 객체에만 영향을 미침\n",
    "- class method(static method) - class로 호출\n",
    "    - 클래스 메쏘드의 경우, 클래스 레벨로 호출되기 때문에, 클래스 멤버 변수만 변경 가능"
   ]
  },
  {
   "cell_type": "code",
   "execution_count": 26,
   "id": "c3d1a494",
   "metadata": {},
   "outputs": [],
   "source": [
    "class Math:   # => 현재 상태를 유지할 필요가 없음\n",
    "    @staticmethod\n",
    "    def add(a,b):\n",
    "        return a+b"
   ]
  },
  {
   "cell_type": "code",
   "execution_count": 25,
   "id": "66641902",
   "metadata": {},
   "outputs": [
    {
     "data": {
      "text/plain": [
       "3"
      ]
     },
     "execution_count": 25,
     "metadata": {},
     "output_type": "execute_result"
    }
   ],
   "source": [
    "Math.add(1,2)"
   ]
  },
  {
   "cell_type": "markdown",
   "id": "010027a4",
   "metadata": {},
   "source": [
    "### 상속"
   ]
  },
  {
   "cell_type": "code",
   "execution_count": 38,
   "id": "ed0978aa",
   "metadata": {},
   "outputs": [
    {
     "data": {
      "text/plain": [
       "'Jay'"
      ]
     },
     "execution_count": 38,
     "metadata": {},
     "output_type": "execute_result"
    }
   ],
   "source": [
    "class Person:\n",
    "    def __init__(self,name,age):\n",
    "        self.name=name;\n",
    "        self.age=age\n",
    "    def sleep(self):\n",
    "        print(self.name,'는 숙면 중입니다.')\n",
    "        \n",
    "class Student(Person):\n",
    "    def __init__(self,name,age,major): \n",
    "        super().__init__(name,age) # => 부모 생성자 사용하기 \n",
    "        self.major=major\n",
    "\n",
    "\n",
    "class Employee(Person):\n",
    "    pass\n",
    "\n",
    "s1=Student('Jay',28,'CS')\n",
    "s1.name"
   ]
  },
  {
   "cell_type": "code",
   "execution_count": 48,
   "id": "4d4a5e52",
   "metadata": {},
   "outputs": [],
   "source": [
    "class Point:\n",
    "    def __init__(self,x,y):\n",
    "        self.x=x\n",
    "        self.y=y\n",
    "    \n",
    "    def print_pt(self):\n",
    "        print('({},{})'.format(self.x,self.y))\n",
    "        \n",
    "    def __str__(self):\n",
    "        return '({},{})'.format(self.x,self.y)\n",
    "    \n",
    "    def __add__(self,p2):\n",
    "        nx=self.x+p2.x\n",
    "        ny=self.y+p2.y\n",
    "        return Point(nx,ny)\n",
    "    \n",
    "    def __len__(self):\n",
    "        pass\n",
    "    \n",
    "    def __getitem__(self,index): # => 인덱싱이 가능하게끔\n",
    "        if index==0:\n",
    "            return self.x\n",
    "        elif"
   ]
  },
  {
   "cell_type": "code",
   "execution_count": 49,
   "id": "a2dc9985",
   "metadata": {},
   "outputs": [
    {
     "name": "stdout",
     "output_type": "stream",
     "text": [
      "(1,2)\n",
      "(1,2)\n"
     ]
    }
   ],
   "source": [
    "\n",
    "p1=Point(1,2)\n",
    "p1.print_pt()\n",
    "p2=Point(3,5)\n",
    "\n",
    "print(p1)"
   ]
  },
  {
   "cell_type": "code",
   "execution_count": 50,
   "id": "f9f7c149",
   "metadata": {},
   "outputs": [],
   "source": [
    "p3=p1+p2"
   ]
  },
  {
   "cell_type": "code",
   "execution_count": 51,
   "id": "4c13308f",
   "metadata": {},
   "outputs": [
    {
     "name": "stdout",
     "output_type": "stream",
     "text": [
      "(4,7)\n"
     ]
    }
   ],
   "source": [
    "print(p3)"
   ]
  },
  {
   "cell_type": "markdown",
   "id": "26c9afdf",
   "metadata": {},
   "source": [
    "### 연습문제 풀이"
   ]
  },
  {
   "cell_type": "markdown",
   "id": "a48020f6",
   "metadata": {},
   "source": [
    "### 1. 복소수 클래스를 정의해보자"
   ]
  },
  {
   "cell_type": "code",
   "execution_count": null,
   "id": "7301876d",
   "metadata": {},
   "outputs": [],
   "source": [
    "class ComplexNumber:\n",
    "    def __init__(self,real,img):\n",
    "        self.real=real\n",
    "        self.img=img\n",
    "    \n",
    "    def __add__(self,cn):\n",
    "        return ComplexNumber(self.real+cn.real,self.img,cn.img)"
   ]
  }
 ],
 "metadata": {
  "kernelspec": {
   "display_name": "Python 3",
   "language": "python",
   "name": "python3"
  },
  "language_info": {
   "codemirror_mode": {
    "name": "ipython",
    "version": 3
   },
   "file_extension": ".py",
   "mimetype": "text/x-python",
   "name": "python",
   "nbconvert_exporter": "python",
   "pygments_lexer": "ipython3",
   "version": "3.8.8"
  }
 },
 "nbformat": 4,
 "nbformat_minor": 5
}
