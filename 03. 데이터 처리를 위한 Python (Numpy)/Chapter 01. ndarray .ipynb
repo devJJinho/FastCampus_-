{
 "cells": [
  {
   "cell_type": "code",
   "execution_count": 2,
   "id": "21c457ed",
   "metadata": {},
   "outputs": [],
   "source": [
    "import numpy as np\n",
    "import matplotlib.pyplot as plt\n"
   ]
  },
  {
   "cell_type": "code",
   "execution_count": 3,
   "id": "c538343a",
   "metadata": {},
   "outputs": [
    {
     "data": {
      "text/plain": [
       "[<matplotlib.lines.Line2D at 0x7fc5600313d0>]"
      ]
     },
     "execution_count": 3,
     "metadata": {},
     "output_type": "execute_result"
    },
    {
     "data": {
      "image/png": "[encoded data removed]",
      "text/plain": [
       "<Figure size 432x288 with 1 Axes>"
      ]
     },
     "metadata": {
      "needs_background": "light"
     },
     "output_type": "display_data"
    }
   ],
   "source": [
    "x=np.array([1,2,3])\n",
    "y=np.array([2,4,6])\n",
    "plt.plot(x,y)"
   ]
  },
  {
   "cell_type": "markdown",
   "id": "c4321d87",
   "metadata": {},
   "source": [
    "### np.array 함수 생성하기\n"
   ]
  },
  {
   "cell_type": "code",
   "execution_count": 4,
   "id": "c2e1aa11",
   "metadata": {},
   "outputs": [
    {
     "name": "stdout",
     "output_type": "stream",
     "text": [
      "[1 2 3 4]\n"
     ]
    }
   ],
   "source": [
    "x=np.array([1,2,3,4])\n",
    "print(x)"
   ]
  },
  {
   "cell_type": "code",
   "execution_count": 6,
   "id": "707b4d6c",
   "metadata": {},
   "outputs": [
    {
     "name": "stdout",
     "output_type": "stream",
     "text": [
      "<class 'numpy.ndarray'>\n"
     ]
    },
    {
     "name": "stderr",
     "output_type": "stream",
     "text": [
      "<ipython-input-6-f1f96c864cc8>:1: VisibleDeprecationWarning: Creating an ndarray from ragged nested sequences (which is a list-or-tuple of lists-or-tuples-or ndarrays with different lengths or shapes) is deprecated. If you meant to do this, you must specify 'dtype=object' when creating the ndarray.\n",
      "  y=np.array([[1,2,3,4],[1,2,5]])\n"
     ]
    }
   ],
   "source": [
    "y=np.array([[1,2,3,4],[1,2,5]]) #=> 이 방식으로 잘 생성하지 않음\n",
    "print(type(y))"
   ]
  },
  {
   "cell_type": "markdown",
   "id": "e8eb6677",
   "metadata": {},
   "source": [
    "### np.arange 함수로 생성하기\n"
   ]
  },
  {
   "cell_type": "code",
   "execution_count": 7,
   "id": "a824f013",
   "metadata": {},
   "outputs": [
    {
     "data": {
      "text/plain": [
       "array([1, 2, 3, 4, 5, 6, 7, 8, 9])"
      ]
     },
     "execution_count": 7,
     "metadata": {},
     "output_type": "execute_result"
    }
   ],
   "source": [
    "np.arange(1,10)"
   ]
  },
  {
   "cell_type": "code",
   "execution_count": 8,
   "id": "8538a0d4",
   "metadata": {},
   "outputs": [
    {
     "data": {
      "text/plain": [
       "array([1, 3, 5, 7, 9])"
      ]
     },
     "execution_count": 8,
     "metadata": {},
     "output_type": "execute_result"
    }
   ],
   "source": [
    "np.arange(1,10,2)"
   ]
  },
  {
   "cell_type": "markdown",
   "id": "da1f69b2",
   "metadata": {},
   "source": [
    "### np.ones, np.zeros로 생성하기 => 초기화가 0인지 1인지"
   ]
  },
  {
   "cell_type": "code",
   "execution_count": 10,
   "id": "541a0403",
   "metadata": {},
   "outputs": [
    {
     "data": {
      "text/plain": [
       "array([[1., 1., 1., 1., 1.],\n",
       "       [1., 1., 1., 1., 1.],\n",
       "       [1., 1., 1., 1., 1.],\n",
       "       [1., 1., 1., 1., 1.]])"
      ]
     },
     "execution_count": 10,
     "metadata": {},
     "output_type": "execute_result"
    }
   ],
   "source": [
    "np.ones((4,5))   #=> 4행 5열"
   ]
  },
  {
   "cell_type": "code",
   "execution_count": 11,
   "id": "60f3bb9d",
   "metadata": {},
   "outputs": [
    {
     "data": {
      "text/plain": [
       "array([[[1., 1., 1., 1.],\n",
       "        [1., 1., 1., 1.],\n",
       "        [1., 1., 1., 1.]],\n",
       "\n",
       "       [[1., 1., 1., 1.],\n",
       "        [1., 1., 1., 1.],\n",
       "        [1., 1., 1., 1.]]])"
      ]
     },
     "execution_count": 11,
     "metadata": {},
     "output_type": "execute_result"
    }
   ],
   "source": [
    "np.ones((2,3,4)) #=> 3행 4열 행렬이 2개 있는 3차원 행렬"
   ]
  },
  {
   "cell_type": "markdown",
   "id": "af365c0c",
   "metadata": {},
   "source": [
    "### np.empty, np.full "
   ]
  },
  {
   "cell_type": "code",
   "execution_count": 13,
   "id": "d275b096",
   "metadata": {},
   "outputs": [
    {
     "data": {
      "text/plain": [
       "array([[-2.68156159e+154, -2.68156159e+154,  2.96439388e-323,\n",
       "         0.00000000e+000],\n",
       "       [ 0.00000000e+000,  0.00000000e+000, -2.68156159e+154,\n",
       "        -2.68156159e+154],\n",
       "       [ 2.32591443e-057,  8.00846616e+169,  6.99196247e+228,\n",
       "         8.34402697e-309]])"
      ]
     },
     "execution_count": 13,
     "metadata": {},
     "output_type": "execute_result"
    }
   ],
   "source": [
    "np.empty((3,4))"
   ]
  },
  {
   "cell_type": "code",
   "execution_count": 17,
   "id": "5332024d",
   "metadata": {},
   "outputs": [
    {
     "data": {
      "text/plain": [
       "array([[7, 7, 7, 7],\n",
       "       [7, 7, 7, 7],\n",
       "       [7, 7, 7, 7]])"
      ]
     },
     "execution_count": 17,
     "metadata": {},
     "output_type": "execute_result"
    }
   ],
   "source": [
    "np.full((3,4),7)   #=> 7로 초기화"
   ]
  },
  {
   "cell_type": "markdown",
   "id": "c184fc5b",
   "metadata": {},
   "source": [
    "### np.eye로 생성하기\n",
    "- 단위 행렬 생성\n"
   ]
  },
  {
   "cell_type": "code",
   "execution_count": 18,
   "id": "e7e8060e",
   "metadata": {},
   "outputs": [
    {
     "data": {
      "text/plain": [
       "array([[1., 0., 0.],\n",
       "       [0., 1., 0.],\n",
       "       [0., 0., 1.]])"
      ]
     },
     "execution_count": 18,
     "metadata": {},
     "output_type": "execute_result"
    }
   ],
   "source": [
    "np.eye(3)"
   ]
  },
  {
   "cell_type": "markdown",
   "id": "ef7ab236",
   "metadata": {},
   "source": [
    "### np.linspace로 생성하기"
   ]
  },
  {
   "cell_type": "code",
   "execution_count": 19,
   "id": "e91d0c7b",
   "metadata": {},
   "outputs": [
    {
     "data": {
      "text/plain": [
       "array([ 1. ,  5.5, 10. ])"
      ]
     },
     "execution_count": 19,
     "metadata": {},
     "output_type": "execute_result"
    }
   ],
   "source": [
    "np.linspace(1,10,3)   # 1과 10 사이 같은 숫자 사이 간격이 동일하게 3등분 해라"
   ]
  },
  {
   "cell_type": "code",
   "execution_count": 20,
   "id": "20c24a6f",
   "metadata": {},
   "outputs": [
    {
     "data": {
      "text/plain": [
       "array([ 1.,  4.,  7., 10.])"
      ]
     },
     "execution_count": 20,
     "metadata": {},
     "output_type": "execute_result"
    }
   ],
   "source": [
    "np.linspace(1,10,4)"
   ]
  },
  {
   "cell_type": "markdown",
   "id": "0d6fe4c2",
   "metadata": {},
   "source": [
    "### re.reshape => 행렬의 모양을 바꾸라\n"
   ]
  },
  {
   "cell_type": "code",
   "execution_count": 25,
   "id": "000d2e31",
   "metadata": {},
   "outputs": [
    {
     "name": "stdout",
     "output_type": "stream",
     "text": [
      "[1 2 3 4 5 6 7 8 9]\n"
     ]
    },
    {
     "data": {
      "text/plain": [
       "array([[1, 2, 3],\n",
       "       [4, 5, 6],\n",
       "       [7, 8, 9]])"
      ]
     },
     "execution_count": 25,
     "metadata": {},
     "output_type": "execute_result"
    }
   ],
   "source": [
    "x=np.arange(1,10)\n",
    "print(x)\n",
    "x.reshape(3,3)"
   ]
  },
  {
   "cell_type": "markdown",
   "id": "6cad7f18",
   "metadata": {},
   "source": [
    "## Random 함수 사용하기 "
   ]
  },
  {
   "cell_type": "markdown",
   "id": "26253ee7",
   "metadata": {},
   "source": [
    "### rand 함수"
   ]
  },
  {
   "cell_type": "code",
   "execution_count": 27,
   "id": "54aec875",
   "metadata": {},
   "outputs": [
    {
     "data": {
      "text/plain": [
       "array([[0.9762739 , 0.82715276, 0.37078927],\n",
       "       [0.53514807, 0.77206677, 0.87798409]])"
      ]
     },
     "execution_count": 27,
     "metadata": {},
     "output_type": "execute_result"
    }
   ],
   "source": [
    "np.random.rand(2,3)    # => 0~1 사이의 랜덤한 수를 return, 괄호 안의 수에 따라 행렬로 return"
   ]
  },
  {
   "cell_type": "markdown",
   "id": "d4898c83",
   "metadata": {},
   "source": [
    "### randn 함수\n",
    "- normal distribution\n",
    "- 정규분포로 샘플링된 랜덤 ndarray return"
   ]
  },
  {
   "cell_type": "code",
   "execution_count": 28,
   "id": "4aa4b47a",
   "metadata": {},
   "outputs": [
    {
     "data": {
      "text/plain": [
       "array([[ 1.26508643,  0.26721466, -1.29269162],\n",
       "       [-0.0594461 , -1.43027474,  2.25043559]])"
      ]
     },
     "execution_count": 28,
     "metadata": {},
     "output_type": "execute_result"
    }
   ],
   "source": [
    "np.random.randn(2,3)"
   ]
  },
  {
   "cell_type": "markdown",
   "id": "11ce1d53",
   "metadata": {},
   "source": [
    "### randint 함수\n",
    "-특정 정수 사이에서 랜덤하게 샘플링\n"
   ]
  },
  {
   "cell_type": "code",
   "execution_count": 32,
   "id": "cd1e3d6c",
   "metadata": {},
   "outputs": [
    {
     "data": {
      "text/plain": [
       "array([[87, 37, 60,  7, 23, 80, 33, 99,  2, 13, 38, 77, 64, 78, 83, 32,\n",
       "        49, 65, 23,  2],\n",
       "       [47, 68, 16, 72, 13, 32, 70, 79, 82, 56, 23, 97, 59, 88, 59, 83,\n",
       "        78, 14, 23, 17],\n",
       "       [54, 22, 73, 31, 45, 89, 88, 30, 96, 25, 82, 73, 73,  4, 64, 72,\n",
       "        18, 14, 96, 42],\n",
       "       [30,  6, 25, 51, 29, 18,  8, 23, 25, 50, 39, 56, 82,  3,  7, 82,\n",
       "        39, 22, 26, 32],\n",
       "       [31, 10, 71, 28, 42,  9, 50, 33, 22,  4, 38, 45, 66, 68, 24, 39,\n",
       "        42, 60, 93, 72]])"
      ]
     },
     "execution_count": 32,
     "metadata": {},
     "output_type": "execute_result"
    }
   ],
   "source": [
    "np.random.randint(1,100,(5,20))\n",
    "np.random.randint(1,100,size=(5,20)) # => 행렬의 형태"
   ]
  },
  {
   "cell_type": "markdown",
   "id": "768c3cfb",
   "metadata": {},
   "source": [
    "### seed 함수\n",
    "- 랜덤한 값을 동일하게 다시 생성하고자 할 때 사용"
   ]
  },
  {
   "cell_type": "code",
   "execution_count": 92,
   "id": "1a42a1b3",
   "metadata": {},
   "outputs": [
    {
     "data": {
      "text/plain": [
       "array([[-1.74976547,  0.3426804 ,  1.1530358 , -0.25243604],\n",
       "       [ 0.98132079,  0.51421884,  0.22117967, -1.07004333],\n",
       "       [-0.18949583,  0.25500144, -0.45802699,  0.43516349]])"
      ]
     },
     "execution_count": 92,
     "metadata": {},
     "output_type": "execute_result"
    }
   ],
   "source": [
    "np.random.seed(100)\n",
    "np.random.randn(3,4)"
   ]
  },
  {
   "cell_type": "markdown",
   "id": "4b13daac",
   "metadata": {},
   "source": [
    "### choice\n",
    "- 주어진 1차원 ndarray로 부터 랜덤으로 샘플링\n",
    "- 정수가 주어진 경우, np.arange(해당숫자)로 간주"
   ]
  },
  {
   "cell_type": "code",
   "execution_count": 93,
   "id": "9e17f33e",
   "metadata": {},
   "outputs": [
    {
     "data": {
      "text/plain": [
       "array([[83,  4, 91, 59],\n",
       "       [67,  7, 49, 47],\n",
       "       [65, 61, 14, 55]])"
      ]
     },
     "execution_count": 93,
     "metadata": {},
     "output_type": "execute_result"
    }
   ],
   "source": [
    "np.random.choice(100,(3,4))"
   ]
  },
  {
   "cell_type": "code",
   "execution_count": 109,
   "id": "35858858",
   "metadata": {},
   "outputs": [
    {
     "data": {
      "text/plain": [
       "array([[4, 8],\n",
       "       [6, 2]])"
      ]
     },
     "execution_count": 109,
     "metadata": {},
     "output_type": "execute_result"
    }
   ],
   "source": [
    "x=np.array([1,2,3,4,5,6,7,8,9])\n",
    "np.random.choice(x,size=(2,2),replace=False) # => replace=False는 한번 뽑은 숫자는 다시 뽑지 않음, return 되는 행렬 내에서 중복되는 수가 없음\n"
   ]
  },
  {
   "cell_type": "markdown",
   "id": "a2891a21",
   "metadata": {},
   "source": [
    "### 확률분포에 따른 ndarray 생성\n",
    "- uniform\n",
    "- normal 등등\n"
   ]
  },
  {
   "cell_type": "code",
   "execution_count": 111,
   "id": "efc084c5",
   "metadata": {},
   "outputs": [
    {
     "data": {
      "text/plain": [
       "array([[2.71923659, 2.25064752, 2.96481566, 2.95300025, 1.33338826],\n",
       "       [1.04635627, 1.3214891 , 2.84699365, 2.9070997 , 1.42195684],\n",
       "       [1.7210505 , 2.09875052, 1.5436617 , 1.92120324, 2.39232313],\n",
       "       [2.00071179, 2.43214198, 2.05191187, 1.00279805, 1.78940057]])"
      ]
     },
     "execution_count": 111,
     "metadata": {},
     "output_type": "execute_result"
    }
   ],
   "source": [
    "np.random.uniform(1.0,3.0, size=(4,5))"
   ]
  },
  {
   "cell_type": "code",
   "execution_count": 112,
   "id": "cdaa9f39",
   "metadata": {},
   "outputs": [
    {
     "data": {
      "text/plain": [
       "array([[-6.64818241,  0.38314819,  1.02809087, -5.66247497, -1.59649672],\n",
       "       [ 0.65244116,  1.34323192,  0.82474758,  2.86656164, -3.91573215],\n",
       "       [ 1.90863205,  7.23063097, -2.7784699 ,  1.98653418, -2.62946712],\n",
       "       [-0.32341537,  6.06641856, -3.77474429,  0.66881598,  6.4720034 ]])"
      ]
     },
     "execution_count": 112,
     "metadata": {},
     "output_type": "execute_result"
    }
   ],
   "source": [
    "np.random.normal(1.0,3.0, size=(4,5))"
   ]
  },
  {
   "cell_type": "markdown",
   "id": "67fc4904",
   "metadata": {},
   "source": [
    "## ndarray 인덱싱"
   ]
  },
  {
   "cell_type": "code",
   "execution_count": 113,
   "id": "b82ef824",
   "metadata": {},
   "outputs": [],
   "source": [
    "x=np.arange(10)"
   ]
  },
  {
   "cell_type": "code",
   "execution_count": 114,
   "id": "988217ca",
   "metadata": {},
   "outputs": [],
   "source": [
    "x=x.reshape(2,5)"
   ]
  },
  {
   "cell_type": "code",
   "execution_count": 115,
   "id": "b94d98db",
   "metadata": {},
   "outputs": [
    {
     "name": "stdout",
     "output_type": "stream",
     "text": [
      "1\n"
     ]
    }
   ],
   "source": [
    "print(x[0][1])"
   ]
  },
  {
   "cell_type": "code",
   "execution_count": 116,
   "id": "2912c7f2",
   "metadata": {},
   "outputs": [
    {
     "name": "stdout",
     "output_type": "stream",
     "text": [
      "[[0 1 2 3 4]\n",
      " [5 6 7 8 9]]\n"
     ]
    }
   ],
   "source": [
    "print(x)"
   ]
  },
  {
   "cell_type": "code",
   "execution_count": 117,
   "id": "829da5a9",
   "metadata": {},
   "outputs": [
    {
     "name": "stdout",
     "output_type": "stream",
     "text": [
      "[5 6 7 8 9]\n"
     ]
    }
   ],
   "source": [
    "print(x[1])"
   ]
  },
  {
   "cell_type": "code",
   "execution_count": 118,
   "id": "e9c2b9d6",
   "metadata": {},
   "outputs": [
    {
     "name": "stdout",
     "output_type": "stream",
     "text": [
      "7\n"
     ]
    }
   ],
   "source": [
    "print(x[1,2])"
   ]
  },
  {
   "cell_type": "code",
   "execution_count": 120,
   "id": "91722c15",
   "metadata": {},
   "outputs": [],
   "source": [
    "x=np.arange(36).reshape(3,4,3)"
   ]
  },
  {
   "cell_type": "code",
   "execution_count": 122,
   "id": "f2ac605d",
   "metadata": {},
   "outputs": [
    {
     "name": "stdout",
     "output_type": "stream",
     "text": [
      "20\n"
     ]
    }
   ],
   "source": [
    "print(x[1,2,2])"
   ]
  },
  {
   "cell_type": "markdown",
   "id": "34ae6ee2",
   "metadata": {},
   "source": [
    "### ndarray 슬라이싱 => 슬라이싱은 차원을 줄이는 목적이 아니다.\n"
   ]
  },
  {
   "cell_type": "code",
   "execution_count": 126,
   "id": "4c717c70",
   "metadata": {},
   "outputs": [],
   "source": [
    "x=np.arange(10).reshape(2,5)"
   ]
  },
  {
   "cell_type": "code",
   "execution_count": 127,
   "id": "059c850b",
   "metadata": {},
   "outputs": [
    {
     "name": "stdout",
     "output_type": "stream",
     "text": [
      "[[0 1 2 3 4]\n",
      " [5 6 7 8 9]]\n",
      "[[1 2 3 4]\n",
      " [6 7 8 9]]\n"
     ]
    }
   ],
   "source": [
    "print(x)\n",
    "print(x[:,1:])"
   ]
  },
  {
   "cell_type": "markdown",
   "id": "c7d2e953",
   "metadata": {},
   "source": [
    "### ndarray 데이터 형태를 바꿔보기\n",
    "\n",
    "ravel\n",
    "- 다차원배열을 1차원으로 바꾸기\n",
    "\n",
    "flatten\n",
    "- 다차원배열을 1차원으로 변경\n",
    "- ravel함수와 차이점 : copy를 생성하여 변경함(즉 원본 데이터가 아닌 복사본을 반환)\n",
    "- 'order'파라미터\n",
    "    - 'C' - row 우선\n",
    "    - 'F' - column 우선 변경"
   ]
  },
  {
   "cell_type": "code",
   "execution_count": 129,
   "id": "aaebc8f5",
   "metadata": {},
   "outputs": [],
   "source": [
    "x=np.arange(10).reshape(2,5)"
   ]
  },
  {
   "cell_type": "code",
   "execution_count": 138,
   "id": "8282d41c",
   "metadata": {},
   "outputs": [
    {
     "name": "stdout",
     "output_type": "stream",
     "text": [
      "[[100   1   2   3   4]\n",
      " [  5   6   7   8   9]]\n",
      "[100   1   2   3   4   5   6   7   8   9]\n",
      "[[100   1   2   3   4]\n",
      " [  5   6   7   8   9]]\n",
      "[100   1   2   3   4   5   6   7   8   9]\n",
      "[[0 1 2 3 4]\n",
      " [5 6 7 8 9]]\n"
     ]
    }
   ],
   "source": [
    "print(x)\n",
    "xx=np.ravel(x) \n",
    "xx[0]=100 # => xx에 수정한 것이 원본에 반영됨\n",
    "print(xx)\n",
    "print(x)\n",
    "\n",
    "\n",
    "y=np.arange(10).reshape(2,5)\n",
    "yy=y.flatten()\n",
    "yy[0]=100\n",
    "print(yy)\n",
    "print(y)  # => 원본에 반영되지 않음"
   ]
  },
  {
   "cell_type": "markdown",
   "id": "33fce73a",
   "metadata": {},
   "source": [
    "### reshape\n",
    "\n",
    "x.reshape(6,-1)의 행렬 -1 옵션은 확정된 한 열을 기준으로 자동으로 계산한다\n"
   ]
  },
  {
   "cell_type": "code",
   "execution_count": 142,
   "id": "129fe9ec",
   "metadata": {},
   "outputs": [],
   "source": [
    "x=np.arange(36)"
   ]
  },
  {
   "cell_type": "code",
   "execution_count": 152,
   "id": "650dfaf7",
   "metadata": {},
   "outputs": [],
   "source": [
    "x=x.reshape(6,-1)"
   ]
  },
  {
   "cell_type": "code",
   "execution_count": 153,
   "id": "60a40e75",
   "metadata": {},
   "outputs": [
    {
     "name": "stdout",
     "output_type": "stream",
     "text": [
      "[[ 36  38  40  42  44  46]\n",
      " [ 48  50  52  54  56  58]\n",
      " [ 60  62  64  66  68  70]\n",
      " [ 72  74  76  78  80  82]\n",
      " [ 84  86  88  90  92  94]\n",
      " [ 96  98 100 102 104 106]]\n"
     ]
    }
   ],
   "source": [
    "y=np.arange(36,72).reshape(6,-1)\n",
    "print(x+y)"
   ]
  },
  {
   "cell_type": "code",
   "execution_count": 154,
   "id": "88765b5d",
   "metadata": {},
   "outputs": [
    {
     "data": {
      "text/plain": [
       "array([231, 267, 303, 339, 375, 411])"
      ]
     },
     "execution_count": 154,
     "metadata": {},
     "output_type": "execute_result"
    }
   ],
   "source": [
    "np.sum(y,axis=1)"
   ]
  },
  {
   "cell_type": "markdown",
   "id": "79e0958b",
   "metadata": {},
   "source": [
    "### any, all 함수\n"
   ]
  },
  {
   "cell_type": "code",
   "execution_count": 155,
   "id": "1bbf2238",
   "metadata": {},
   "outputs": [],
   "source": [
    "z=np.random.randn(10)"
   ]
  },
  {
   "cell_type": "code",
   "execution_count": 156,
   "id": "518aa3b9",
   "metadata": {},
   "outputs": [
    {
     "data": {
      "text/plain": [
       "True"
      ]
     },
     "execution_count": 156,
     "metadata": {},
     "output_type": "execute_result"
    }
   ],
   "source": [
    "np.any(z)"
   ]
  },
  {
   "cell_type": "code",
   "execution_count": 158,
   "id": "a201a982",
   "metadata": {},
   "outputs": [
    {
     "data": {
      "text/plain": [
       "False"
      ]
     },
     "execution_count": 158,
     "metadata": {},
     "output_type": "execute_result"
    }
   ],
   "source": [
    "np.all(z==0)"
   ]
  },
  {
   "cell_type": "markdown",
   "id": "ccd7b335",
   "metadata": {},
   "source": [
    "### where 함수\n",
    "- 조건에 따라 선별적으로 값을 선택 가능\n",
    "- 사용 예) 음수인경우는 0, 나머지는 그대로 값을 쓰는 경우\n"
   ]
  },
  {
   "cell_type": "code",
   "execution_count": 159,
   "id": "a9f21a58",
   "metadata": {},
   "outputs": [
    {
     "name": "stdout",
     "output_type": "stream",
     "text": [
      "[-0.60366109  1.30894109  1.27590944 -1.28599308 -0.62575643  0.34171079\n",
      " -0.13077302 -1.09164964  0.07453901  1.24824825]\n"
     ]
    }
   ],
   "source": [
    "z=np.random.randn(10)\n",
    "print(z)"
   ]
  },
  {
   "cell_type": "code",
   "execution_count": 162,
   "id": "5b0e0eb6",
   "metadata": {},
   "outputs": [
    {
     "data": {
      "text/plain": [
       "array([0.        , 1.30894109, 1.27590944, 0.        , 0.        ,\n",
       "       0.34171079, 0.        , 0.        , 0.07453901, 1.24824825])"
      ]
     },
     "execution_count": 162,
     "metadata": {},
     "output_type": "execute_result"
    }
   ],
   "source": [
    "np.where(z>0,z,0)"
   ]
  },
  {
   "cell_type": "markdown",
   "id": "48796db0",
   "metadata": {},
   "source": [
    "### axis(축) 이해 및 axis를 파라미터로 갖는 함수 활용하기"
   ]
  },
  {
   "cell_type": "code",
   "execution_count": 163,
   "id": "2e82dabf",
   "metadata": {},
   "outputs": [],
   "source": [
    "x=np.arange(15)"
   ]
  },
  {
   "cell_type": "code",
   "execution_count": 164,
   "id": "36218155",
   "metadata": {},
   "outputs": [
    {
     "data": {
      "text/plain": [
       "105"
      ]
     },
     "execution_count": 164,
     "metadata": {},
     "output_type": "execute_result"
    }
   ],
   "source": [
    "np.sum(x)"
   ]
  },
  {
   "cell_type": "code",
   "execution_count": 168,
   "id": "57db5846",
   "metadata": {},
   "outputs": [
    {
     "ename": "AxisError",
     "evalue": "axis 1 is out of bounds for array of dimension 1",
     "output_type": "error",
     "traceback": [
      "\u001b[0;31m---------------------------------------------------------------------------\u001b[0m",
      "\u001b[0;31mAxisError\u001b[0m                                 Traceback (most recent call last)",
      "\u001b[0;32m<ipython-input-168-9f543122903a>\u001b[0m in \u001b[0;36m<module>\u001b[0;34m\u001b[0m\n\u001b[0;32m----> 1\u001b[0;31m \u001b[0mnp\u001b[0m\u001b[0;34m.\u001b[0m\u001b[0msum\u001b[0m\u001b[0;34m(\u001b[0m\u001b[0mx\u001b[0m\u001b[0;34m,\u001b[0m\u001b[0maxis\u001b[0m\u001b[0;34m=\u001b[0m\u001b[0;36m1\u001b[0m\u001b[0;34m)\u001b[0m   \u001b[0;31m# => 1차원 벡터에선 축이 하나밖에 없다.\u001b[0m\u001b[0;34m\u001b[0m\u001b[0;34m\u001b[0m\u001b[0m\n\u001b[0m",
      "\u001b[0;32m<__array_function__ internals>\u001b[0m in \u001b[0;36msum\u001b[0;34m(*args, **kwargs)\u001b[0m\n",
      "\u001b[0;32m~/opt/anaconda3/lib/python3.8/site-packages/numpy/core/fromnumeric.py\u001b[0m in \u001b[0;36msum\u001b[0;34m(a, axis, dtype, out, keepdims, initial, where)\u001b[0m\n\u001b[1;32m   2245\u001b[0m         \u001b[0;32mreturn\u001b[0m \u001b[0mres\u001b[0m\u001b[0;34m\u001b[0m\u001b[0;34m\u001b[0m\u001b[0m\n\u001b[1;32m   2246\u001b[0m \u001b[0;34m\u001b[0m\u001b[0m\n\u001b[0;32m-> 2247\u001b[0;31m     return _wrapreduction(a, np.add, 'sum', axis, dtype, out, keepdims=keepdims,\n\u001b[0m\u001b[1;32m   2248\u001b[0m                           initial=initial, where=where)\n\u001b[1;32m   2249\u001b[0m \u001b[0;34m\u001b[0m\u001b[0m\n",
      "\u001b[0;32m~/opt/anaconda3/lib/python3.8/site-packages/numpy/core/fromnumeric.py\u001b[0m in \u001b[0;36m_wrapreduction\u001b[0;34m(obj, ufunc, method, axis, dtype, out, **kwargs)\u001b[0m\n\u001b[1;32m     85\u001b[0m                 \u001b[0;32mreturn\u001b[0m \u001b[0mreduction\u001b[0m\u001b[0;34m(\u001b[0m\u001b[0maxis\u001b[0m\u001b[0;34m=\u001b[0m\u001b[0maxis\u001b[0m\u001b[0;34m,\u001b[0m \u001b[0mout\u001b[0m\u001b[0;34m=\u001b[0m\u001b[0mout\u001b[0m\u001b[0;34m,\u001b[0m \u001b[0;34m**\u001b[0m\u001b[0mpasskwargs\u001b[0m\u001b[0;34m)\u001b[0m\u001b[0;34m\u001b[0m\u001b[0;34m\u001b[0m\u001b[0m\n\u001b[1;32m     86\u001b[0m \u001b[0;34m\u001b[0m\u001b[0m\n\u001b[0;32m---> 87\u001b[0;31m     \u001b[0;32mreturn\u001b[0m \u001b[0mufunc\u001b[0m\u001b[0;34m.\u001b[0m\u001b[0mreduce\u001b[0m\u001b[0;34m(\u001b[0m\u001b[0mobj\u001b[0m\u001b[0;34m,\u001b[0m \u001b[0maxis\u001b[0m\u001b[0;34m,\u001b[0m \u001b[0mdtype\u001b[0m\u001b[0;34m,\u001b[0m \u001b[0mout\u001b[0m\u001b[0;34m,\u001b[0m \u001b[0;34m**\u001b[0m\u001b[0mpasskwargs\u001b[0m\u001b[0;34m)\u001b[0m\u001b[0;34m\u001b[0m\u001b[0;34m\u001b[0m\u001b[0m\n\u001b[0m\u001b[1;32m     88\u001b[0m \u001b[0;34m\u001b[0m\u001b[0m\n\u001b[1;32m     89\u001b[0m \u001b[0;34m\u001b[0m\u001b[0m\n",
      "\u001b[0;31mAxisError\u001b[0m: axis 1 is out of bounds for array of dimension 1"
     ]
    }
   ],
   "source": [
    "np.sum(x,axis=1)   # => 1차원 벡터에선 축이 하나밖에 없다."
   ]
  },
  {
   "cell_type": "code",
   "execution_count": 169,
   "id": "1e646c9b",
   "metadata": {},
   "outputs": [],
   "source": [
    "x=x.reshape(3,5)"
   ]
  },
  {
   "cell_type": "code",
   "execution_count": 171,
   "id": "94695d28",
   "metadata": {},
   "outputs": [
    {
     "name": "stdout",
     "output_type": "stream",
     "text": [
      "[[ 0  1  2  3  4]\n",
      " [ 5  6  7  8  9]\n",
      " [10 11 12 13 14]]\n"
     ]
    }
   ],
   "source": [
    "print(x)"
   ]
  },
  {
   "cell_type": "code",
   "execution_count": 178,
   "id": "cbf91eca",
   "metadata": {},
   "outputs": [
    {
     "data": {
      "text/plain": [
       "array([15, 18, 21, 24, 27])"
      ]
     },
     "execution_count": 178,
     "metadata": {},
     "output_type": "execute_result"
    }
   ],
   "source": [
    "np.sum(x,0)"
   ]
  },
  {
   "cell_type": "code",
   "execution_count": 177,
   "id": "81e7d486",
   "metadata": {},
   "outputs": [
    {
     "data": {
      "text/plain": [
       "array([10, 35, 60])"
      ]
     },
     "execution_count": 177,
     "metadata": {},
     "output_type": "execute_result"
    }
   ],
   "source": [
    "np.sum(x,1)"
   ]
  },
  {
   "cell_type": "code",
   "execution_count": 181,
   "id": "8b3ecfa5",
   "metadata": {},
   "outputs": [],
   "source": [
    "x=np.arange(45)\n",
    "x=x.reshape(3,3,5)"
   ]
  },
  {
   "cell_type": "code",
   "execution_count": 182,
   "id": "1cc5a0d3",
   "metadata": {},
   "outputs": [
    {
     "name": "stdout",
     "output_type": "stream",
     "text": [
      "[[[ 0  1  2  3  4]\n",
      "  [ 5  6  7  8  9]\n",
      "  [10 11 12 13 14]]\n",
      "\n",
      " [[15 16 17 18 19]\n",
      "  [20 21 22 23 24]\n",
      "  [25 26 27 28 29]]\n",
      "\n",
      " [[30 31 32 33 34]\n",
      "  [35 36 37 38 39]\n",
      "  [40 41 42 43 44]]]\n"
     ]
    }
   ],
   "source": [
    "print(x)"
   ]
  },
  {
   "cell_type": "code",
   "execution_count": 186,
   "id": "8a1d54e0",
   "metadata": {},
   "outputs": [
    {
     "data": {
      "text/plain": [
       "array([[45, 48, 51, 54, 57],\n",
       "       [60, 63, 66, 69, 72],\n",
       "       [75, 78, 81, 84, 87]])"
      ]
     },
     "execution_count": 186,
     "metadata": {},
     "output_type": "execute_result"
    }
   ],
   "source": [
    "np.sum(x,0)"
   ]
  },
  {
   "cell_type": "markdown",
   "id": "1de96226",
   "metadata": {},
   "source": [
    "### 브로드캐스팅의 이해 "
   ]
  },
  {
   "cell_type": "code",
   "execution_count": 187,
   "id": "f545ab32",
   "metadata": {},
   "outputs": [],
   "source": [
    "x=np.arange(12).reshape(4,3)"
   ]
  },
  {
   "cell_type": "code",
   "execution_count": 190,
   "id": "8823d81f",
   "metadata": {},
   "outputs": [],
   "source": [
    "y=np.arange(3)"
   ]
  },
  {
   "cell_type": "code",
   "execution_count": 191,
   "id": "4b5b5884",
   "metadata": {},
   "outputs": [
    {
     "data": {
      "text/plain": [
       "array([[ 0,  2,  4],\n",
       "       [ 3,  5,  7],\n",
       "       [ 6,  8, 10],\n",
       "       [ 9, 11, 13]])"
      ]
     },
     "execution_count": 191,
     "metadata": {},
     "output_type": "execute_result"
    }
   ],
   "source": [
    "x+y"
   ]
  },
  {
   "cell_type": "code",
   "execution_count": 198,
   "id": "9d3b8394",
   "metadata": {},
   "outputs": [],
   "source": [
    "x=np.arange(24).reshape(2,4,3)\n",
    "y=np.arange(12).reshape(4,3)"
   ]
  },
  {
   "cell_type": "code",
   "execution_count": 199,
   "id": "4701231f",
   "metadata": {},
   "outputs": [
    {
     "data": {
      "text/plain": [
       "array([[[ 0,  2,  4],\n",
       "        [ 6,  8, 10],\n",
       "        [12, 14, 16],\n",
       "        [18, 20, 22]],\n",
       "\n",
       "       [[12, 14, 16],\n",
       "        [18, 20, 22],\n",
       "        [24, 26, 28],\n",
       "        [30, 32, 34]]])"
      ]
     },
     "execution_count": 199,
     "metadata": {},
     "output_type": "execute_result"
    }
   ],
   "source": [
    "x+y"
   ]
  },
  {
   "cell_type": "markdown",
   "id": "2eab1e16",
   "metadata": {},
   "source": [
    "### Boolean Indexing\n",
    "- AND OR NOT의 다중 조건 사용 불가\n",
    "- &, | 을 사용해서 나타낸다."
   ]
  },
  {
   "cell_type": "code",
   "execution_count": 215,
   "id": "45cfe576",
   "metadata": {},
   "outputs": [
    {
     "name": "stdout",
     "output_type": "stream",
     "text": [
      "[75 80 93 53 45 14 34 16 18 89]\n"
     ]
    }
   ],
   "source": [
    "x=np.random.randint(1,100,size=10)\n",
    "print(x)"
   ]
  },
  {
   "cell_type": "code",
   "execution_count": 217,
   "id": "46cdc37f",
   "metadata": {},
   "outputs": [
    {
     "name": "stdout",
     "output_type": "stream",
     "text": [
      "[False  True False False False  True  True  True  True False]\n"
     ]
    },
    {
     "data": {
      "text/plain": [
       "array([80, 14, 34, 16, 18])"
      ]
     },
     "execution_count": 217,
     "metadata": {},
     "output_type": "execute_result"
    }
   ],
   "source": [
    "even_mask=x%2==0\n",
    "print(even_mask)\n",
    "\n",
    "# bool 리스트를 인덱스로 전달한다\n",
    "\n",
    "x[even_mask]\n",
    "\n",
    "\n",
    "# 보통 한줄로 처리한다.\n",
    "x[x%2==0]"
   ]
  },
  {
   "cell_type": "code",
   "execution_count": 209,
   "id": "eb5f6cba",
   "metadata": {},
   "outputs": [
    {
     "ename": "TypeError",
     "evalue": "unsupported operand type(s) for %: 'list' and 'int'",
     "output_type": "error",
     "traceback": [
      "\u001b[0;31m---------------------------------------------------------------------------\u001b[0m",
      "\u001b[0;31mTypeError\u001b[0m                                 Traceback (most recent call last)",
      "\u001b[0;32m<ipython-input-209-25901a5bc7e3>\u001b[0m in \u001b[0;36m<module>\u001b[0;34m\u001b[0m\n\u001b[1;32m      1\u001b[0m \u001b[0ma\u001b[0m\u001b[0;34m=\u001b[0m\u001b[0;34m[\u001b[0m\u001b[0;36m87\u001b[0m\u001b[0;34m,\u001b[0m \u001b[0;36m38\u001b[0m\u001b[0;34m,\u001b[0m  \u001b[0;36m1\u001b[0m\u001b[0;34m,\u001b[0m \u001b[0;36m60\u001b[0m\u001b[0;34m,\u001b[0m \u001b[0;36m42\u001b[0m\u001b[0;34m,\u001b[0m \u001b[0;36m45\u001b[0m\u001b[0;34m,\u001b[0m \u001b[0;36m20\u001b[0m\u001b[0;34m,\u001b[0m \u001b[0;36m77\u001b[0m\u001b[0;34m,\u001b[0m \u001b[0;36m67\u001b[0m\u001b[0;34m,\u001b[0m \u001b[0;36m14\u001b[0m\u001b[0;34m]\u001b[0m\u001b[0;34m\u001b[0m\u001b[0;34m\u001b[0m\u001b[0m\n\u001b[0;32m----> 2\u001b[0;31m \u001b[0ma\u001b[0m\u001b[0;34m%\u001b[0m\u001b[0;36m2\u001b[0m\u001b[0;34m==\u001b[0m\u001b[0;36m0\u001b[0m  \u001b[0;31m# => 일반 파이썬 리스트에선 불가능 하지만 numpy에선 브로드캐스팅을 통해 가능\u001b[0m\u001b[0;34m\u001b[0m\u001b[0;34m\u001b[0m\u001b[0m\n\u001b[0m",
      "\u001b[0;31mTypeError\u001b[0m: unsupported operand type(s) for %: 'list' and 'int'"
     ]
    }
   ],
   "source": [
    "a=[87, 38,  1, 60, 42, 45, 20, 77, 67, 14]\n",
    "a%2==0  # => 일반 파이썬 리스트에선 불가능 하지만 numpy에선 브로드캐스팅을 통해 가능"
   ]
  },
  {
   "cell_type": "code",
   "execution_count": 220,
   "id": "72a2d630",
   "metadata": {},
   "outputs": [
    {
     "data": {
      "text/plain": [
       "array([34])"
      ]
     },
     "execution_count": 220,
     "metadata": {},
     "output_type": "execute_result"
    }
   ],
   "source": [
    "x[(x>30)&(x<40)]"
   ]
  },
  {
   "cell_type": "markdown",
   "id": "de9130bd",
   "metadata": {},
   "source": [
    "#### 예제) 2019년 7월 서울 평균기온 데이터\n",
    " - 평균기온이 25도를 넘는 날수는?\n",
    " - 평균기온이 25를 넘는 날의 평균 기온은?\n"
   ]
  },
  {
   "cell_type": "code",
   "execution_count": 222,
   "id": "34b24599",
   "metadata": {},
   "outputs": [],
   "source": [
    "temp = np.array(\n",
    "        [23.9, 24.4, 24.1, 25.4, 27.6, 29.7,\n",
    "         26.7, 25.1, 25.0, 22.7, 21.9, 23.6, \n",
    "         24.9, 25.9, 23.8, 24.7, 25.6, 26.9, \n",
    "         28.6, 28.0, 25.1, 26.7, 28.1, 26.5, \n",
    "         26.3, 25.9, 28.4, 26.1, 27.5, 28.1, 25.8])"
   ]
  },
  {
   "cell_type": "code",
   "execution_count": 223,
   "id": "d7ee46f6",
   "metadata": {},
   "outputs": [
    {
     "name": "stdout",
     "output_type": "stream",
     "text": [
      "21\n"
     ]
    }
   ],
   "source": [
    "print(len(temp[temp>25]))"
   ]
  },
  {
   "cell_type": "code",
   "execution_count": 224,
   "id": "acbff21f",
   "metadata": {},
   "outputs": [
    {
     "data": {
      "text/plain": [
       "26.857142857142858"
      ]
     },
     "execution_count": 224,
     "metadata": {},
     "output_type": "execute_result"
    }
   ],
   "source": [
    "over=temp[temp>25]\n",
    "sum(over)/len(over)"
   ]
  },
  {
   "cell_type": "code",
   "execution_count": 228,
   "id": "06ab4dca",
   "metadata": {},
   "outputs": [
    {
     "data": {
      "text/plain": [
       "26.857142857142858"
      ]
     },
     "execution_count": 228,
     "metadata": {},
     "output_type": "execute_result"
    }
   ],
   "source": [
    "np.mean(temp[temp>25.0])"
   ]
  },
  {
   "cell_type": "markdown",
   "id": "36c3e8de",
   "metadata": {},
   "source": [
    "### np.linalg.inv\n",
    "- 역행렬 구하기\n",
    "- 정방렬만 가능\n"
   ]
  },
  {
   "cell_type": "code",
   "execution_count": 241,
   "id": "b7129b6a",
   "metadata": {},
   "outputs": [
    {
     "name": "stdout",
     "output_type": "stream",
     "text": [
      "[[0.89076414 0.35501525 0.82317797 0.38149612]\n",
      " [0.03400909 0.88722056 0.4971579  0.02616028]\n",
      " [0.8918212  0.99259084 0.28025065 0.44650545]\n",
      " [0.85163306 0.47433037 0.27746328 0.84165882]]\n"
     ]
    }
   ],
   "source": [
    "x=np.arange(16).reshape(4,4)\n",
    "x=np.random.rand(4,4)\n",
    "print(x)"
   ]
  },
  {
   "cell_type": "code",
   "execution_count": 244,
   "id": "9996a43d",
   "metadata": {},
   "outputs": [
    {
     "name": "stdout",
     "output_type": "stream",
     "text": [
      "[[ 0.68684681 -1.39138253  1.5085653  -1.06838194]\n",
      " [-0.59765538  0.66959875  0.67409182 -0.10752499]\n",
      " [ 1.05675973  0.87256903 -1.22714677  0.14489404]\n",
      " [-0.70654207  0.74285502 -1.50179398  2.28200422]]\n"
     ]
    }
   ],
   "source": [
    "x_=np.linalg.inv(x)\n",
    "print(x_)"
   ]
  },
  {
   "cell_type": "code",
   "execution_count": 245,
   "id": "ed21ab6b",
   "metadata": {},
   "outputs": [
    {
     "data": {
      "text/plain": [
       "array([[ 1.00000000e+00, -1.66533454e-16, -5.55111512e-16,\n",
       "         0.00000000e+00],\n",
       "       [-9.71445147e-17,  1.00000000e+00,  9.02056208e-17,\n",
       "         6.93889390e-18],\n",
       "       [ 5.55111512e-17, -1.66533454e-16,  1.00000000e+00,\n",
       "         0.00000000e+00],\n",
       "       [ 1.11022302e-16,  1.11022302e-16, -2.22044605e-16,\n",
       "         1.00000000e+00]])"
      ]
     },
     "execution_count": 245,
     "metadata": {},
     "output_type": "execute_result"
    }
   ],
   "source": [
    "x@x_    # => @은 행렬의 곱"
   ]
  },
  {
   "cell_type": "markdown",
   "id": "a6120834",
   "metadata": {},
   "source": [
    "### np.linalg.solve \n",
    "- x+y=25\n",
    "- 2x+4y=64\n",
    "\n",
    "(1 1)(x)  (25)  \n",
    "(2 4)(y)=(64)"
   ]
  },
  {
   "cell_type": "code",
   "execution_count": 247,
   "id": "f89d569c",
   "metadata": {},
   "outputs": [],
   "source": [
    "A=np.array([[1,1],[2,4]])\n",
    "B=np.array([25,64])"
   ]
  },
  {
   "cell_type": "code",
   "execution_count": 250,
   "id": "1a106a18",
   "metadata": {},
   "outputs": [
    {
     "name": "stdout",
     "output_type": "stream",
     "text": [
      "[18.  7.]\n"
     ]
    },
    {
     "data": {
      "text/plain": [
       "True"
      ]
     },
     "execution_count": 250,
     "metadata": {},
     "output_type": "execute_result"
    }
   ],
   "source": [
    "x=np.linalg.solve(A,B)\n",
    "print(x)\n",
    "\n",
    "np.allclose(A@x,B)  # => 차가 충분히 작아서 같다고 봐도 되는지?\n"
   ]
  },
  {
   "cell_type": "markdown",
   "id": "6541f036",
   "metadata": {},
   "source": [
    "# Numpy matplot"
   ]
  },
  {
   "cell_type": "code",
   "execution_count": 256,
   "id": "a93437d8",
   "metadata": {},
   "outputs": [],
   "source": [
    "import matplotlib.pyplot as plt\n",
    "%matplotlib inline \n",
    "# => 그래프를 주피터 노트북 안에서 실행시키겠다는 뜻"
   ]
  },
  {
   "cell_type": "code",
   "execution_count": 260,
   "id": "630a2e50",
   "metadata": {},
   "outputs": [
    {
     "name": "stdout",
     "output_type": "stream",
     "text": [
      "[ 0.  1.  2.  3.  4.  5.  6.  7.  8.  9. 10.]\n",
      "[  2.7497025    4.40425122   7.43225126  12.86389866  22.21262207\n",
      "  30.91978164  44.3768079   58.66485001  74.83437765  92.27423107\n",
      " 113.10001719]\n"
     ]
    }
   ],
   "source": [
    "x=np.linspace(0,10,11)   # => 간격 나누기\n",
    "y=x**2+x+2+np.random.randn(11)  # => 2차함수에서 노이즈 추가\n",
    "print(x)\n",
    "print(y)"
   ]
  },
  {
   "cell_type": "markdown",
   "id": "5b9ee492",
   "metadata": {},
   "source": [
    "### 그래프 출력하기\n"
   ]
  },
  {
   "cell_type": "code",
   "execution_count": 261,
   "id": "3f764a25",
   "metadata": {},
   "outputs": [
    {
     "data": {
      "text/plain": [
       "[<matplotlib.lines.Line2D at 0x7fc5702fb910>]"
      ]
     },
     "execution_count": 261,
     "metadata": {},
     "output_type": "execute_result"
    },
    {
     "data": {
      "image/png": "[encoded data removed]",
      "text/plain": [
       "<Figure size 432x288 with 1 Axes>"
      ]
     },
     "metadata": {
      "needs_background": "light"
     },
     "output_type": "display_data"
    }
   ],
   "source": [
    "plt.plot(x,y)"
   ]
  },
  {
   "cell_type": "code",
   "execution_count": 262,
   "id": "b2b47ba4",
   "metadata": {},
   "outputs": [
    {
     "data": {
      "text/plain": [
       "<matplotlib.collections.PathCollection at 0x7fc570244850>"
      ]
     },
     "execution_count": 262,
     "metadata": {},
     "output_type": "execute_result"
    },
    {
     "data": {
      "image/png": "[encoded data removed]",
      "text/plain": [
       "<Figure size 432x288 with 1 Axes>"
      ]
     },
     "metadata": {
      "needs_background": "light"
     },
     "output_type": "display_data"
    }
   ],
   "source": [
    "plt.scatter(x,y)"
   ]
  },
  {
   "cell_type": "markdown",
   "id": "769ede6b",
   "metadata": {},
   "source": [
    "### 축 정보 기입하기"
   ]
  },
  {
   "cell_type": "code",
   "execution_count": 277,
   "id": "40fabbbf",
   "metadata": {},
   "outputs": [
    {
     "data": {
      "text/plain": [
       "[<matplotlib.lines.Line2D at 0x7fc5a0e28ee0>]"
      ]
     },
     "execution_count": 277,
     "metadata": {},
     "output_type": "execute_result"
    },
    {
     "data": {
      "image/png": "[encoded data removed]",
      "text/plain": [
       "<Figure size 432x288 with 1 Axes>"
      ]
     },
     "metadata": {
      "needs_background": "light"
     },
     "output_type": "display_data"
    }
   ],
   "source": [
    "plt.xlabel('X values')\n",
    "plt.ylabel('Y values')\n",
    "plt.title('X-Y Relations')\n",
    "# plt.grid(True)\n",
    "plt.xlim(0,100)\n",
    "plt.ylim(0,100)\n",
    "plt.plot(x,y)"
   ]
  },
  {
   "cell_type": "markdown",
   "id": "63c98b1e",
   "metadata": {},
   "source": [
    "### plot 함수 파라미터\n"
   ]
  },
  {
   "cell_type": "code",
   "execution_count": 282,
   "id": "2111090c",
   "metadata": {},
   "outputs": [
    {
     "data": {
      "text/plain": [
       "[<matplotlib.lines.Line2D at 0x7fc5a0ed5f40>]"
      ]
     },
     "execution_count": 282,
     "metadata": {},
     "output_type": "execute_result"
    },
    {
     "data": {
      "image/png": "[encoded data removed]",
      "text/plain": [
       "<Figure size 432x288 with 1 Axes>"
      ]
     },
     "metadata": {
      "needs_background": "light"
     },
     "output_type": "display_data"
    }
   ],
   "source": [
    "plt.plot(x,y,'orange',linewidth=5,linestyle='--')    # => 스타일은 공식 문서에서 찾아서 입력하면 된다."
   ]
  },
  {
   "cell_type": "code",
   "execution_count": 285,
   "id": "24fa9412",
   "metadata": {},
   "outputs": [
    {
     "data": {
      "text/plain": [
       "[<matplotlib.lines.Line2D at 0x7fc5602fcf40>]"
      ]
     },
     "execution_count": 285,
     "metadata": {},
     "output_type": "execute_result"
    },
    {
     "data": {
      "image/png": "[encoded data removed]",
      "text/plain": [
       "<Figure size 432x288 with 1 Axes>"
      ]
     },
     "metadata": {
      "needs_background": "light"
     },
     "output_type": "display_data"
    }
   ],
   "source": [
    "plt.subplot(2,2,1)\n",
    "plt.plot(x,y)"
   ]
  },
  {
   "cell_type": "markdown",
   "id": "9f5c53ee",
   "metadata": {},
   "source": [
    "### hist 함수 (히스토그램)"
   ]
  },
  {
   "cell_type": "code",
   "execution_count": 293,
   "id": "b0379bdb",
   "metadata": {},
   "outputs": [
    {
     "name": "stdout",
     "output_type": "stream",
     "text": [
      "200\n"
     ]
    },
    {
     "data": {
      "text/plain": [
       "(array([23., 18., 22., 15., 23., 16., 20., 23., 19., 21.]),\n",
       " array([ 2. , 11.7, 21.4, 31.1, 40.8, 50.5, 60.2, 69.9, 79.6, 89.3, 99. ]),\n",
       " <BarContainer object of 10 artists>)"
      ]
     },
     "execution_count": 293,
     "metadata": {},
     "output_type": "execute_result"
    },
    {
     "data": {
      "image/png": "[encoded data removed]",
      "text/plain": [
       "<Figure size 432x288 with 1 Axes>"
      ]
     },
     "metadata": {
      "needs_background": "light"
     },
     "output_type": "display_data"
    }
   ],
   "source": [
    "data=np.random.randint(1,100,size=200)\n",
    "print(len(data))\n",
    "plt.xlabel('value')\n",
    "plt.ylabel('frequency')\n",
    "plt.hist(data,bins=10)"
   ]
  },
  {
   "cell_type": "markdown",
   "id": "fe4ca57a",
   "metadata": {},
   "source": [
    "### 연습문제\n",
    "1. 로또 번호 자동 생성기(함수로)를 만드시오\n",
    "2. numpy를 이용하여 pi(원주율) 값을 계산하시오\n",
    " "
   ]
  },
  {
   "cell_type": "code",
   "execution_count": 300,
   "id": "242df7a0",
   "metadata": {},
   "outputs": [],
   "source": [
    "def generate_lottery():\n",
    "    return np.random.choice(np.arange(1,46),6,replace=False)\n",
    "    "
   ]
  },
  {
   "cell_type": "code",
   "execution_count": 301,
   "id": "7af346f0",
   "metadata": {},
   "outputs": [
    {
     "data": {
      "text/plain": [
       "array([26, 42, 25, 39, 12, 17])"
      ]
     },
     "execution_count": 301,
     "metadata": {},
     "output_type": "execute_result"
    }
   ],
   "source": [
    "generate_lottery()"
   ]
  },
  {
   "cell_type": "code",
   "execution_count": 322,
   "id": "e3b78223",
   "metadata": {},
   "outputs": [
    {
     "name": "stdout",
     "output_type": "stream",
     "text": [
      "7853872\n",
      "3.1415488\n"
     ]
    }
   ],
   "source": [
    "# points=np.random.rand(1000000,2)\n",
    "# np.sum(points**2,axis=1)\n",
    "cnt=0\n",
    "for a in range(10000000):\n",
    "    x=np.random.rand()\n",
    "    y=np.random.rand()\n",
    "    if x**2+y**2<1:\n",
    "        cnt+=1\n",
    "print(cnt)\n",
    "print(4*(cnt/10000000))"
   ]
  },
  {
   "cell_type": "code",
   "execution_count": 3,
   "id": "efaf1ed2",
   "metadata": {},
   "outputs": [
    {
     "data": {
      "text/plain": [
       "3.14138804"
      ]
     },
     "execution_count": 3,
     "metadata": {},
     "output_type": "execute_result"
    }
   ],
   "source": [
    "total=int(1e8)\n",
    "points=np.random.rand(total,2)\n",
    "4*np.sum(np.sum(points**2,axis=1)<1)/total"
   ]
  },
  {
   "cell_type": "code",
   "execution_count": null,
   "id": "2aa00cb1",
   "metadata": {},
   "outputs": [],
   "source": []
  }
 ],
 "metadata": {
  "kernelspec": {
   "display_name": "Python 3",
   "language": "python",
   "name": "python3"
  },
  "language_info": {
   "codemirror_mode": {
    "name": "ipython",
    "version": 3
   },
   "file_extension": ".py",
   "mimetype": "text/x-python",
   "name": "python",
   "nbconvert_exporter": "python",
   "pygments_lexer": "ipython3",
   "version": "3.8.8"
  }
 },
 "nbformat": 4,
 "nbformat_minor": 5
}
