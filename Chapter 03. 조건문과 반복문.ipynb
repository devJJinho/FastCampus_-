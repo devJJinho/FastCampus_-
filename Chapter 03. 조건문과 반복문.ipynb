{
 "cells": [
  {
   "cell_type": "markdown",
   "id": "6d26487b",
   "metadata": {},
   "source": [
    "### 우선순위 : NOT -> AND -> OR"
   ]
  },
  {
   "cell_type": "markdown",
   "id": "112bed08",
   "metadata": {},
   "source": [
    "### if의 조건이 False로 간주되는 값\n",
    "- 0\n",
    "- 0.0\n",
    "- ''\n",
    "- [] 빈 리스트\n",
    "- {} 빈 튜플\n",
    "- set() 빈 딕셔너리"
   ]
  },
  {
   "cell_type": "markdown",
   "id": "991c09fb",
   "metadata": {},
   "source": [
    "--------\n"
   ]
  },
  {
   "cell_type": "markdown",
   "id": "6c70d79b",
   "metadata": {},
   "source": [
    "# While"
   ]
  },
  {
   "cell_type": "markdown",
   "id": "1a72074a",
   "metadata": {},
   "source": [
    "### While루프를 사용하여 리스트의 아이템 출력하기\n"
   ]
  },
  {
   "cell_type": "code",
   "execution_count": 2,
   "id": "5e9f31fc",
   "metadata": {},
   "outputs": [
    {
     "name": "stdout",
     "output_type": "stream",
     "text": [
      "1\n",
      "2\n",
      "3\n",
      "4\n",
      "5\n",
      "6\n",
      "7\n",
      "8\n",
      "9\n"
     ]
    }
   ],
   "source": [
    "a=[1,2,3,4,5,6,7,8,9]\n",
    "i=0\n",
    "while i<len(a):\n",
    "    print(a[i])\n",
    "    i+=1"
   ]
  },
  {
   "cell_type": "code",
   "execution_count": 3,
   "id": "9c1d28af",
   "metadata": {},
   "outputs": [
    {
     "name": "stdout",
     "output_type": "stream",
     "text": [
      "5050\n"
     ]
    }
   ],
   "source": [
    "sum=0\n",
    "i=1\n",
    "while i<=100:\n",
    "    sum+=i\n",
    "    i+=1\n",
    "print(sum)"
   ]
  },
  {
   "cell_type": "markdown",
   "id": "7d5a67d3",
   "metadata": {},
   "source": [
    "--------\n"
   ]
  },
  {
   "cell_type": "markdown",
   "id": "1b3cd7b3",
   "metadata": {},
   "source": [
    "# For"
   ]
  },
  {
   "cell_type": "code",
   "execution_count": 4,
   "id": "b91f66fc",
   "metadata": {},
   "outputs": [
    {
     "name": "stdout",
     "output_type": "stream",
     "text": [
      "seoul Korea\n",
      "beijing China\n"
     ]
    }
   ],
   "source": [
    "a={'seoul':'Korea','beijing':'China'}\n",
    "for city,nation in a.items(): # 튜플에서 2개를 받아올 수 있다.\n",
    "    print(city,nation)"
   ]
  },
  {
   "cell_type": "markdown",
   "id": "3667f769",
   "metadata": {},
   "source": [
    "### index가 필요할땐 enumerate 함수를 사용할 수 있다.\n"
   ]
  },
  {
   "cell_type": "code",
   "execution_count": 5,
   "id": "ab27a017",
   "metadata": {},
   "outputs": [
    {
     "name": "stdout",
     "output_type": "stream",
     "text": [
      "0 1\n",
      "1 2\n",
      "2 3\n",
      "3 4\n",
      "4 5\n"
     ]
    }
   ],
   "source": [
    "a=[1,2,3,4,5]\n",
    "for index, a in enumerate(a):\n",
    "    print(index, a)"
   ]
  },
  {
   "cell_type": "markdown",
   "id": "946ef0d3",
   "metadata": {},
   "source": [
    "### 예제) 1~100사이 2 또는 11의 배수를 출력하시오\n"
   ]
  },
  {
   "cell_type": "code",
   "execution_count": 7,
   "id": "9c188127",
   "metadata": {},
   "outputs": [
    {
     "name": "stdout",
     "output_type": "stream",
     "text": [
      "2\n",
      "4\n",
      "6\n",
      "8\n",
      "10\n",
      "11\n",
      "12\n",
      "14\n",
      "16\n",
      "18\n",
      "20\n",
      "22\n",
      "24\n",
      "26\n",
      "28\n",
      "30\n",
      "32\n",
      "33\n",
      "34\n",
      "36\n",
      "38\n",
      "40\n",
      "42\n",
      "44\n",
      "46\n",
      "48\n",
      "50\n",
      "52\n",
      "54\n",
      "55\n",
      "56\n",
      "58\n",
      "60\n",
      "62\n",
      "64\n",
      "66\n",
      "68\n",
      "70\n",
      "72\n",
      "74\n",
      "76\n",
      "77\n",
      "78\n",
      "80\n",
      "82\n",
      "84\n",
      "86\n",
      "88\n",
      "90\n",
      "92\n",
      "94\n",
      "96\n",
      "98\n",
      "99\n",
      "100\n"
     ]
    }
   ],
   "source": [
    "for a in range(1,101):\n",
    "    if a%2==0 or a%11==0:\n",
    "        print(a)"
   ]
  },
  {
   "cell_type": "markdown",
   "id": "e4ef2e83",
   "metadata": {},
   "source": []
  }
 ],
 "metadata": {
  "kernelspec": {
   "display_name": "Python 3",
   "language": "python",
   "name": "python3"
  },
  "language_info": {
   "codemirror_mode": {
    "name": "ipython",
    "version": 3
   },
   "file_extension": ".py",
   "mimetype": "text/x-python",
   "name": "python",
   "nbconvert_exporter": "python",
   "pygments_lexer": "ipython3",
   "version": "3.8.8"
  }
 },
 "nbformat": 4,
 "nbformat_minor": 5
}
